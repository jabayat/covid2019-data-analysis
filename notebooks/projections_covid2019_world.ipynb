{
 "cells": [
  {
   "cell_type": "code",
   "execution_count": 2,
   "metadata": {
    "colab": {},
    "colab_type": "code",
    "id": "831xWIlgEHRN"
   },
   "outputs": [],
   "source": [
    "%reload_ext autoreload\n",
    "%autoreload 2"
   ]
  },
  {
   "cell_type": "code",
   "execution_count": 3,
   "metadata": {
    "colab": {},
    "colab_type": "code",
    "id": "muiHDDviEHRS"
   },
   "outputs": [],
   "source": [
    "import os, sys, glob"
   ]
  },
  {
   "cell_type": "code",
   "execution_count": 4,
   "metadata": {
    "colab": {},
    "colab_type": "code",
    "id": "YeI7NGDLEHRV"
   },
   "outputs": [],
   "source": [
    "import pandas as pd\n",
    "\n",
    "import numpy as np\n",
    "\n",
    "import seaborn as sns\n",
    "\n",
    "import matplotlib.pyplot as plt\n",
    "\n",
    "import matplotlib.ticker as ticker\n",
    "\n",
    "import matplotlib.dates as mdates"
   ]
  },
  {
   "cell_type": "code",
   "execution_count": 5,
   "metadata": {
    "colab": {},
    "colab_type": "code",
    "id": "Et3U3QXLEHRY"
   },
   "outputs": [],
   "source": [
    "from datetime import datetime"
   ]
  },
  {
   "cell_type": "markdown",
   "metadata": {
    "colab_type": "text",
    "id": "PTPOH-ehF1p9"
   },
   "source": [
    "### Required for google colab"
   ]
  },
  {
   "cell_type": "code",
   "execution_count": 6,
   "metadata": {
    "colab": {
     "base_uri": "https://localhost:8080/",
     "height": 35
    },
    "colab_type": "code",
    "executionInfo": {
     "elapsed": 1252,
     "status": "ok",
     "timestamp": 1584257017279,
     "user": {
      "displayName": "Matteo Barbieri",
      "photoUrl": "https://lh3.googleusercontent.com/a-/AOh14GgtsPZKZVWWfohpcJujBF0TCOZo3Pk_wYJgU-cK=s64",
      "userId": "03032937856915207277"
     },
     "user_tz": -60
    },
    "id": "cj0ttwhwEjzr",
    "outputId": "b592c79a-fb30-4014-8d2d-9b6e760a15f7"
   },
   "outputs": [],
   "source": [
    "# from google.colab import drive\n",
    "# drive.mount('/content/gdrive')\n",
    "\n",
    "# %cd /content/gdrive/My\\ Drive/projects/covid2019-data-analysis/notebooks"
   ]
  },
  {
   "cell_type": "code",
   "execution_count": 7,
   "metadata": {
    "colab": {},
    "colab_type": "code",
    "id": "D1plsGZ0HMAP"
   },
   "outputs": [],
   "source": [
    "# !gitIC_estimates.png\n",
    "# \tmodified:   IC_estimates_logscale.png\n",
    "# \tmodified:   confirmed_cases_prediction.png\n",
    "# \tmodified:   daily_data.png\n",
    "# \tmodified:   europe_aligned_dates.png\n",
    "# \tmodified:   europe_daily_increase_10days.png\n",
    "# \tmodified:   projections_covid2019_italy.ipynb"
   ]
  },
  {
   "cell_type": "code",
   "execution_count": 8,
   "metadata": {
    "colab": {
     "base_uri": "https://localhost:8080/",
     "height": 711
    },
    "colab_type": "code",
    "executionInfo": {
     "elapsed": 52251,
     "status": "ok",
     "timestamp": 1584259446869,
     "user": {
      "displayName": "Matteo Barbieri",
      "photoUrl": "https://lh3.googleusercontent.com/a-/AOh14GgtsPZKZVWWfohpcJujBF0TCOZo3Pk_wYJgU-cK=s64",
      "userId": "03032937856915207277"
     },
     "user_tz": -60
    },
    "id": "VHaigUl5Nu7k",
    "outputId": "3952eb57-e81e-4419-8d76-ab4bc20b11a0"
   },
   "outputs": [],
   "source": [
    "# !git status"
   ]
  },
  {
   "cell_type": "code",
   "execution_count": 9,
   "metadata": {
    "colab": {
     "base_uri": "https://localhost:8080/",
     "height": 173
    },
    "colab_type": "code",
    "executionInfo": {
     "elapsed": 21943,
     "status": "ok",
     "timestamp": 1584259248457,
     "user": {
      "displayName": "Matteo Barbieri",
      "photoUrl": "https://lh3.googleusercontent.com/a-/AOh14GgtsPZKZVWWfohpcJujBF0TCOZo3Pk_wYJgU-cK=s64",
      "userId": "03032937856915207277"
     },
     "user_tz": -60
    },
    "id": "kjjGWrUpIgyV",
    "outputId": "0847a755-1a21-4258-ff2e-b26c8a977e12"
   },
   "outputs": [],
   "source": [
    "# !git push --all"
   ]
  },
  {
   "cell_type": "markdown",
   "metadata": {
    "colab_type": "text",
    "id": "daQZs08XHDUG"
   },
   "source": [
    "### Setup"
   ]
  },
  {
   "cell_type": "code",
   "execution_count": 10,
   "metadata": {
    "colab": {},
    "colab_type": "code",
    "id": "-nvd6ozNEHRa"
   },
   "outputs": [],
   "source": [
    "DATA_DIR = \"../csse_covid_19_data/csse_covid_19_daily_reports\""
   ]
  },
  {
   "cell_type": "code",
   "execution_count": 11,
   "metadata": {
    "colab": {},
    "colab_type": "code",
    "id": "5VpZrtGnEHRe"
   },
   "outputs": [],
   "source": [
    "# sns.set(rc={'figure.figsize':(11.7,8.27),\"font.size\":20,\"axes.titlesize\":20,\"axes.labelsize\":20},style=\"whitegrid\")\n",
    "# sns.set(font_scale = 2)\n",
    "# sns.set_style(\"whitegrid\", {'grid.linestyle': ':'})"
   ]
  },
  {
   "cell_type": "markdown",
   "metadata": {
    "colab_type": "text",
    "id": "rXwXs7bOEHRg"
   },
   "source": [
    "## Data loading"
   ]
  },
  {
   "cell_type": "code",
   "execution_count": 12,
   "metadata": {
    "colab": {},
    "colab_type": "code",
    "id": "mIMG7DZ1EHRh"
   },
   "outputs": [],
   "source": [
    "csv_files = glob.glob(DATA_DIR + \"/*.csv\")"
   ]
  },
  {
   "cell_type": "code",
   "execution_count": 13,
   "metadata": {
    "colab": {},
    "colab_type": "code",
    "id": "ZFoaIm8nEHRj"
   },
   "outputs": [],
   "source": [
    "def extract_date(file_name):\n",
    "    date_str = os.path.basename(file_name)[:-4]\n",
    "#     print(date_str)\n",
    "    \n",
    "#     date = datetime.strptime(match.group(), '%Y-%m-%d').date()\n",
    "    date = datetime.strptime(date_str, '%m-%d-%Y').date()\n",
    "#     print(date)\n",
    "    \n",
    "    return date"
   ]
  },
  {
   "cell_type": "code",
   "execution_count": 14,
   "metadata": {
    "colab": {
     "base_uri": "https://localhost:8080/",
     "height": 176
    },
    "colab_type": "code",
    "executionInfo": {
     "elapsed": 34263,
     "status": "ok",
     "timestamp": 1584257050354,
     "user": {
      "displayName": "Matteo Barbieri",
      "photoUrl": "https://lh3.googleusercontent.com/a-/AOh14GgtsPZKZVWWfohpcJujBF0TCOZo3Pk_wYJgU-cK=s64",
      "userId": "03032937856915207277"
     },
     "user_tz": -60
    },
    "id": "3U0NXZgdEHRn",
    "outputId": "f44fac68-46bd-4b03-f59b-f3da7ae9be0e"
   },
   "outputs": [],
   "source": [
    "world_df = None\n",
    "\n",
    "for csv_file in csv_files:\n",
    "    \n",
    "    df = pd.read_csv(csv_file)\n",
    "    date = extract_date(csv_file)\n",
    "    df['Date'] = date\n",
    "    \n",
    "    if world_df is None:\n",
    "        world_df = df\n",
    "    else:\n",
    "        world_df = pd.concat((world_df, df), ignore_index=True)\n",
    "    \n",
    "#     break"
   ]
  },
  {
   "cell_type": "markdown",
   "metadata": {
    "colab_type": "text",
    "id": "yxVCtQP8EHRq"
   },
   "source": [
    "### Setup individual country"
   ]
  },
  {
   "cell_type": "code",
   "execution_count": 15,
   "metadata": {
    "colab": {},
    "colab_type": "code",
    "id": "I44OQFVlEHRr"
   },
   "outputs": [],
   "source": [
    "# Uncomment in case you want to check the list of countries with available data\n",
    "\n",
    "# world_df['Country/Region'].unique()"
   ]
  },
  {
   "cell_type": "code",
   "execution_count": 16,
   "metadata": {
    "colab": {},
    "colab_type": "code",
    "id": "PjTDvD--EHRt"
   },
   "outputs": [],
   "source": [
    "country_name = \"Italy\"\n",
    "ESTIMATED_IC_CAPACITY = 5000\n",
    "\n",
    "# country_name = \"Sweden\"\n",
    "# ESTIMATED_IC_CAPACITY = 1000"
   ]
  },
  {
   "cell_type": "code",
   "execution_count": 17,
   "metadata": {
    "colab": {},
    "colab_type": "code",
    "id": "oeGPQwhcEHRv"
   },
   "outputs": [],
   "source": [
    "# Get data for a single country, sorted by date\n",
    "\n",
    "country_df = world_df[world_df['Country/Region'] == country_name].sort_values(by='Date')\n",
    "\n",
    "# Estimate a reasonable value for Y tick given the maximum number of cases\n",
    "Y_GRID_TICK = 10**int(np.log10(country_df['Confirmed'].max()))/2"
   ]
  },
  {
   "cell_type": "code",
   "execution_count": 18,
   "metadata": {
    "colab": {
     "base_uri": "https://localhost:8080/",
     "height": 79
    },
    "colab_type": "code",
    "executionInfo": {
     "elapsed": 34234,
     "status": "ok",
     "timestamp": 1584257050356,
     "user": {
      "displayName": "Matteo Barbieri",
      "photoUrl": "https://lh3.googleusercontent.com/a-/AOh14GgtsPZKZVWWfohpcJujBF0TCOZo3Pk_wYJgU-cK=s64",
      "userId": "03032937856915207277"
     },
     "user_tz": -60
    },
    "id": "k0TGacUOEHRx",
    "outputId": "57c0f91a-a0e1-448c-9d81-4f084029c0d9"
   },
   "outputs": [
    {
     "data": {
      "text/html": [
       "<div>\n",
       "<style scoped>\n",
       "    .dataframe tbody tr th:only-of-type {\n",
       "        vertical-align: middle;\n",
       "    }\n",
       "\n",
       "    .dataframe tbody tr th {\n",
       "        vertical-align: top;\n",
       "    }\n",
       "\n",
       "    .dataframe thead th {\n",
       "        text-align: right;\n",
       "    }\n",
       "</style>\n",
       "<table border=\"1\" class=\"dataframe\">\n",
       "  <thead>\n",
       "    <tr style=\"text-align: right;\">\n",
       "      <th></th>\n",
       "      <th>Province/State</th>\n",
       "      <th>Country/Region</th>\n",
       "      <th>Last Update</th>\n",
       "      <th>Confirmed</th>\n",
       "      <th>Deaths</th>\n",
       "      <th>Recovered</th>\n",
       "      <th>Date</th>\n",
       "      <th>Latitude</th>\n",
       "      <th>Longitude</th>\n",
       "    </tr>\n",
       "  </thead>\n",
       "  <tbody>\n",
       "    <tr>\n",
       "      <th>3865</th>\n",
       "      <td>NaN</td>\n",
       "      <td>Italy</td>\n",
       "      <td>2020-03-10T17:53:02</td>\n",
       "      <td>10149.0</td>\n",
       "      <td>631.0</td>\n",
       "      <td>724.0</td>\n",
       "      <td>2020-03-10</td>\n",
       "      <td>43.0</td>\n",
       "      <td>12.0</td>\n",
       "    </tr>\n",
       "  </tbody>\n",
       "</table>\n",
       "</div>"
      ],
      "text/plain": [
       "     Province/State Country/Region          Last Update  Confirmed  Deaths  \\\n",
       "3865            NaN          Italy  2020-03-10T17:53:02    10149.0   631.0   \n",
       "\n",
       "      Recovered        Date  Latitude  Longitude  \n",
       "3865      724.0  2020-03-10      43.0       12.0  "
      ]
     },
     "execution_count": 18,
     "metadata": {},
     "output_type": "execute_result"
    }
   ],
   "source": [
    "# Uncomment to check data for a specific day\n",
    "\n",
    "country_df[country_df['Date'] == datetime.strptime(\"03-10-2020\", '%m-%d-%Y').date()]"
   ]
  },
  {
   "cell_type": "code",
   "execution_count": 19,
   "metadata": {
    "colab": {
     "base_uri": "https://localhost:8080/",
     "height": 202
    },
    "colab_type": "code",
    "executionInfo": {
     "elapsed": 34229,
     "status": "ok",
     "timestamp": 1584257050357,
     "user": {
      "displayName": "Matteo Barbieri",
      "photoUrl": "https://lh3.googleusercontent.com/a-/AOh14GgtsPZKZVWWfohpcJujBF0TCOZo3Pk_wYJgU-cK=s64",
      "userId": "03032937856915207277"
     },
     "user_tz": -60
    },
    "id": "49um6A8XEHRz",
    "outputId": "03fb6729-b926-4a4b-8e58-30f9dcbd4133"
   },
   "outputs": [
    {
     "data": {
      "text/html": [
       "<div>\n",
       "<style scoped>\n",
       "    .dataframe tbody tr th:only-of-type {\n",
       "        vertical-align: middle;\n",
       "    }\n",
       "\n",
       "    .dataframe tbody tr th {\n",
       "        vertical-align: top;\n",
       "    }\n",
       "\n",
       "    .dataframe thead th {\n",
       "        text-align: right;\n",
       "    }\n",
       "</style>\n",
       "<table border=\"1\" class=\"dataframe\">\n",
       "  <thead>\n",
       "    <tr style=\"text-align: right;\">\n",
       "      <th></th>\n",
       "      <th>Province/State</th>\n",
       "      <th>Country/Region</th>\n",
       "      <th>Last Update</th>\n",
       "      <th>Confirmed</th>\n",
       "      <th>Deaths</th>\n",
       "      <th>Recovered</th>\n",
       "      <th>Date</th>\n",
       "      <th>Latitude</th>\n",
       "      <th>Longitude</th>\n",
       "    </tr>\n",
       "  </thead>\n",
       "  <tbody>\n",
       "    <tr>\n",
       "      <th>4857</th>\n",
       "      <td>NaN</td>\n",
       "      <td>Italy</td>\n",
       "      <td>2020-03-14T20:13:16</td>\n",
       "      <td>24747.0</td>\n",
       "      <td>1809.0</td>\n",
       "      <td>2335.0</td>\n",
       "      <td>2020-03-15</td>\n",
       "      <td>41.8719</td>\n",
       "      <td>12.5674</td>\n",
       "    </tr>\n",
       "    <tr>\n",
       "      <th>1254</th>\n",
       "      <td>NaN</td>\n",
       "      <td>Italy</td>\n",
       "      <td>2020-03-16T17:33:03</td>\n",
       "      <td>27980.0</td>\n",
       "      <td>2158.0</td>\n",
       "      <td>2749.0</td>\n",
       "      <td>2020-03-16</td>\n",
       "      <td>41.8719</td>\n",
       "      <td>12.5674</td>\n",
       "    </tr>\n",
       "    <tr>\n",
       "      <th>2029</th>\n",
       "      <td>NaN</td>\n",
       "      <td>Italy</td>\n",
       "      <td>2020-03-17T18:33:02</td>\n",
       "      <td>31506.0</td>\n",
       "      <td>2503.0</td>\n",
       "      <td>2941.0</td>\n",
       "      <td>2020-03-17</td>\n",
       "      <td>41.8719</td>\n",
       "      <td>12.5674</td>\n",
       "    </tr>\n",
       "    <tr>\n",
       "      <th>6590</th>\n",
       "      <td>NaN</td>\n",
       "      <td>Italy</td>\n",
       "      <td>2020-03-18T17:33:05</td>\n",
       "      <td>35713.0</td>\n",
       "      <td>2978.0</td>\n",
       "      <td>4025.0</td>\n",
       "      <td>2020-03-18</td>\n",
       "      <td>41.8719</td>\n",
       "      <td>12.5674</td>\n",
       "    </tr>\n",
       "    <tr>\n",
       "      <th>2305</th>\n",
       "      <td>NaN</td>\n",
       "      <td>Italy</td>\n",
       "      <td>2020-03-19T17:43:03</td>\n",
       "      <td>41035.0</td>\n",
       "      <td>3405.0</td>\n",
       "      <td>4440.0</td>\n",
       "      <td>2020-03-19</td>\n",
       "      <td>41.8719</td>\n",
       "      <td>12.5674</td>\n",
       "    </tr>\n",
       "  </tbody>\n",
       "</table>\n",
       "</div>"
      ],
      "text/plain": [
       "     Province/State Country/Region          Last Update  Confirmed  Deaths  \\\n",
       "4857            NaN          Italy  2020-03-14T20:13:16    24747.0  1809.0   \n",
       "1254            NaN          Italy  2020-03-16T17:33:03    27980.0  2158.0   \n",
       "2029            NaN          Italy  2020-03-17T18:33:02    31506.0  2503.0   \n",
       "6590            NaN          Italy  2020-03-18T17:33:05    35713.0  2978.0   \n",
       "2305            NaN          Italy  2020-03-19T17:43:03    41035.0  3405.0   \n",
       "\n",
       "      Recovered        Date  Latitude  Longitude  \n",
       "4857     2335.0  2020-03-15   41.8719    12.5674  \n",
       "1254     2749.0  2020-03-16   41.8719    12.5674  \n",
       "2029     2941.0  2020-03-17   41.8719    12.5674  \n",
       "6590     4025.0  2020-03-18   41.8719    12.5674  \n",
       "2305     4440.0  2020-03-19   41.8719    12.5674  "
      ]
     },
     "execution_count": 19,
     "metadata": {},
     "output_type": "execute_result"
    }
   ],
   "source": [
    "# Check latest data\n",
    "\n",
    "country_df.tail()"
   ]
  },
  {
   "cell_type": "markdown",
   "metadata": {},
   "source": [
    "Compute daily increase of confirmed cases"
   ]
  },
  {
   "cell_type": "code",
   "execution_count": 20,
   "metadata": {},
   "outputs": [],
   "source": [
    "country_df['Increase'] = country_df['Confirmed'].diff()"
   ]
  },
  {
   "cell_type": "code",
   "execution_count": 26,
   "metadata": {},
   "outputs": [],
   "source": [
    "country_df = country_df[country_df['Date'] <= datetime.strptime(\"02-28-2020\", '%m-%d-%Y').date()]"
   ]
  },
  {
   "cell_type": "code",
   "execution_count": 27,
   "metadata": {
    "colab": {
     "base_uri": "https://localhost:8080/",
     "height": 551
    },
    "colab_type": "code",
    "executionInfo": {
     "elapsed": 2121,
     "status": "ok",
     "timestamp": 1584257404430,
     "user": {
      "displayName": "Matteo Barbieri",
      "photoUrl": "https://lh3.googleusercontent.com/a-/AOh14GgtsPZKZVWWfohpcJujBF0TCOZo3Pk_wYJgU-cK=s64",
      "userId": "03032937856915207277"
     },
     "user_tz": -60
    },
    "id": "GCEp4jcVEHR2",
    "outputId": "634f3d66-1215-4c1e-f639-1719443582a4"
   },
   "outputs": [
    {
     "data": {
      "image/png": "[encoded data removed]",
      "text/plain": [
       "<Figure size 1296x648 with 2 Axes>"
      ]
     },
     "metadata": {},
     "output_type": "display_data"
    }
   ],
   "source": [
    "ax = plt.gca()\n",
    "\n",
    "sns.set_style(\"whitegrid\", {'grid.linestyle': ':'})\n",
    "# ax.yaxis.set_major_locator(ticker.MultipleLocator(Y_GRID_TICK))\n",
    "ax.xaxis.set_major_locator(ticker.MultipleLocator(4))\n",
    "\n",
    "country_df.plot(x='Date', y=[\"Confirmed\", \"Deaths\"], figsize=(18,9), ax=ax, marker='o')\n",
    "country_df.plot(x='Date', y=[\"Recovered\"], figsize=(18,9), ax=ax, marker='o')\n",
    "country_df.plot(x='Date', y=[\"Increase\"], secondary_y=True, figsize=(18,9), ax=ax, marker='o')\n",
    "\n",
    "\n",
    "\n",
    "# country_df.plot(x='Date', y=[\"Recovered\"], figsize=(18,9), ax=ax, marker='o')\n",
    "\n",
    "ax.xaxis.set_major_formatter(mdates.DateFormatter('%d-%m-%Y'))\n",
    "ax.set_ylabel(\"# of confirmed cases\");\n",
    "\n",
    "ax.set_title(\"Daily numbers of confirmed cases, deaths and hospitalized people. Daily increase refers to numbers on the right y axis.\");\n",
    "\n",
    "plt.savefig(\"daily_data.png\");"
   ]
  },
  {
   "cell_type": "code",
   "execution_count": 23,
   "metadata": {},
   "outputs": [
    {
     "ename": "ZeroDivisionError",
     "evalue": "division by zero",
     "output_type": "error",
     "traceback": [
      "\u001b[0;31m---------------------------------------------------------------------------\u001b[0m",
      "\u001b[0;31mZeroDivisionError\u001b[0m                         Traceback (most recent call last)",
      "\u001b[0;32m<ipython-input-23-9e1622b385b6>\u001b[0m in \u001b[0;36m<module>\u001b[0;34m\u001b[0m\n\u001b[0;32m----> 1\u001b[0;31m \u001b[0;36m1\u001b[0m\u001b[0;34m/\u001b[0m\u001b[0;36m0\u001b[0m\u001b[0;34m\u001b[0m\u001b[0;34m\u001b[0m\u001b[0m\n\u001b[0m",
      "\u001b[0;31mZeroDivisionError\u001b[0m: division by zero"
     ]
    }
   ],
   "source": [
    "1/0"
   ]
  },
  {
   "cell_type": "markdown",
   "metadata": {
    "colab_type": "text",
    "id": "Ssg_p95NEHR6"
   },
   "source": [
    "$y = e^{ax}$"
   ]
  },
  {
   "cell_type": "markdown",
   "metadata": {
    "colab_type": "text",
    "id": "VV0mEYKWEHR6"
   },
   "source": [
    "$\\ln{y} = ax$"
   ]
  },
  {
   "cell_type": "markdown",
   "metadata": {
    "colab_type": "text",
    "id": "ml5o3-M-EHR7"
   },
   "source": [
    "## ML analysis"
   ]
  },
  {
   "cell_type": "code",
   "execution_count": null,
   "metadata": {
    "colab": {},
    "colab_type": "code",
    "id": "ucmF70b4EHR8"
   },
   "outputs": [],
   "source": [
    "from sklearn.linear_model import LinearRegression\n",
    "\n",
    "from scipy.optimize import curve_fit"
   ]
  },
  {
   "cell_type": "code",
   "execution_count": null,
   "metadata": {
    "colab": {},
    "colab_type": "code",
    "id": "Nr37TCsYEHR9"
   },
   "outputs": [],
   "source": [
    "# Set range of data to build model\n",
    "\n",
    "# It might make sense to skip part of the initial points, when the exponential trend was still not evident\n",
    "START_DATE = datetime(2020, 2, 23).date()\n",
    "# START_DATE = datetime(2020, 3, 10).date()"
   ]
  },
  {
   "cell_type": "markdown",
   "metadata": {},
   "source": [
    "### Simple linear fit against log values"
   ]
  },
  {
   "cell_type": "code",
   "execution_count": null,
   "metadata": {
    "colab": {},
    "colab_type": "code",
    "id": "EBTLNkufEHSA"
   },
   "outputs": [],
   "source": [
    "# Prepare value vectors\n",
    "\n",
    "# The acual values\n",
    "y = country_df[country_df['Date'] > START_DATE]['Confirmed']\n",
    "\n",
    "# The log values\n",
    "y_log = np.log(y)\n",
    "\n",
    "# Independent variable\n",
    "x = np.arange(len(y))"
   ]
  },
  {
   "cell_type": "code",
   "execution_count": null,
   "metadata": {
    "colab": {
     "base_uri": "https://localhost:8080/",
     "height": 35
    },
    "colab_type": "code",
    "executionInfo": {
     "elapsed": 35948,
     "status": "ok",
     "timestamp": 1584257052133,
     "user": {
      "displayName": "Matteo Barbieri",
      "photoUrl": "https://lh3.googleusercontent.com/a-/AOh14GgtsPZKZVWWfohpcJujBF0TCOZo3Pk_wYJgU-cK=s64",
      "userId": "03032937856915207277"
     },
     "user_tz": -60
    },
    "id": "KtVT1AZQEHSC",
    "outputId": "09501f96-ce9a-4202-b1ba-d667debeee2d"
   },
   "outputs": [],
   "source": [
    "reg = LinearRegression()\n",
    "reg.fit(x[:,np.newaxis], y_log)"
   ]
  },
  {
   "cell_type": "code",
   "execution_count": null,
   "metadata": {},
   "outputs": [],
   "source": [
    "reg.coef_"
   ]
  },
  {
   "cell_type": "markdown",
   "metadata": {},
   "source": [
    "### Curve fit"
   ]
  },
  {
   "cell_type": "code",
   "execution_count": null,
   "metadata": {},
   "outputs": [],
   "source": [
    "\n",
    "# The curve we're trying to fit\n",
    "def my_exp(x, a, b, c):\n",
    "    return a * np.exp(b * (x + c))"
   ]
  },
  {
   "cell_type": "code",
   "execution_count": null,
   "metadata": {},
   "outputs": [],
   "source": [
    "# Fit curve\n",
    "popt, pcov = curve_fit(my_exp, x, y, p0=(1, 0.14, 42))"
   ]
  },
  {
   "cell_type": "code",
   "execution_count": null,
   "metadata": {},
   "outputs": [],
   "source": [
    "popt"
   ]
  },
  {
   "cell_type": "markdown",
   "metadata": {
    "colab_type": "text",
    "id": "C1zkadfGEHSE"
   },
   "source": [
    "### Create dataframe with estimates"
   ]
  },
  {
   "cell_type": "code",
   "execution_count": null,
   "metadata": {
    "colab": {},
    "colab_type": "code",
    "id": "TNA1s8uKEHSF"
   },
   "outputs": [],
   "source": [
    "estimate_dates = pd.date_range(start=START_DATE.strftime(\"%m/%d/%Y\"), end='03/20/2020')\n",
    "estimate_cases = np.exp(reg.predict(np.arange(len(estimate_dates))[:, np.newaxis]))\n",
    "\n",
    "# Make predictions\n",
    "estimate_cases_cf = my_exp(np.arange(len(estimate_dates)), *popt)"
   ]
  },
  {
   "cell_type": "code",
   "execution_count": null,
   "metadata": {
    "colab": {},
    "colab_type": "code",
    "id": "HY-Kq4_aEHSH"
   },
   "outputs": [],
   "source": [
    "# df_estimates = pd.DataFrame({\"Date\": estimate_dates, \"Predictions\": estimate_cases})\n",
    "df_estimates = pd.DataFrame({\"Date\": estimate_dates, \"Predictions\": estimate_cases, \"Predictions_cf\": estimate_cases_cf})"
   ]
  },
  {
   "cell_type": "code",
   "execution_count": null,
   "metadata": {
    "colab": {
     "base_uri": "https://localhost:8080/",
     "height": 599
    },
    "colab_type": "code",
    "executionInfo": {
     "elapsed": 2336,
     "status": "ok",
     "timestamp": 1584257377924,
     "user": {
      "displayName": "Matteo Barbieri",
      "photoUrl": "https://lh3.googleusercontent.com/a-/AOh14GgtsPZKZVWWfohpcJujBF0TCOZo3Pk_wYJgU-cK=s64",
      "userId": "03032937856915207277"
     },
     "user_tz": -60
    },
    "id": "5uGP1WTtEHSK",
    "outputId": "39bef0ea-a8b7-4da4-b36e-db915bea8dd5"
   },
   "outputs": [],
   "source": [
    "ax = plt.gca()\n",
    "\n",
    "country_df.plot(x='Date', y=[\"Confirmed\"], figsize=(20,10), ax=ax, marker='o')\n",
    "df_estimates.plot(x='Date', y=[\"Predictions\"], figsize=(20,10), ax=ax, marker='o')\n",
    "df_estimates.plot(x='Date', y=[\"Predictions_cf\"], figsize=(20,10), ax=ax, marker='o')\n",
    "\n",
    "\n",
    "# ax.yaxis.set_major_locator(ticker.MultipleLocator(Y_GRID_TICK))\n",
    "ax.xaxis.set_major_locator(ticker.MultipleLocator(3))\n",
    "\n",
    "ax.set_ylabel(\"# of confirmed cases\");\n",
    "\n",
    "# Use lines below in case you want to highlight a specific date/value\n",
    "\n",
    "ax.axvline(\"2020-02-23\", 0, 1, ls=':', color='red')\n",
    "ax.axvline(\"2020-03-09\", 0, 1, ls=':', color='red')\n",
    "\n",
    "ax.annotate('Codogno lockdown', xy=(\"2020-02-23\", 10), xytext=(\"2020-02-16\", 5000),\n",
    "            arrowprops=dict(facecolor='black', shrink=0.05));\n",
    "\n",
    "ax.annotate('Exponential growth decrease?', xy=(\"2020-03-09\", 9000), xytext=(\"2020-02-28\", 15000),\n",
    "            arrowprops=dict(facecolor='black', shrink=0.05));\n",
    "\n",
    "ax.arrow(\"2020-02-23\", 40000, 15, 0, color='red', lw=2, capstyle='round');\n",
    "\n",
    "ax.annotate(\"17 days\", xy=(\"2020-02-29\", 42000), xytext=(\"2020-02-29\", 42000));\n",
    "\n",
    "plt.savefig(\"confirmed_cases_prediction.png\");"
   ]
  },
  {
   "cell_type": "markdown",
   "metadata": {
    "colab_type": "text",
    "id": "3IEpP9R6EHSM"
   },
   "source": [
    "### Estimate people in IC\n",
    "\n",
    "Assume that 10% of infected people require a bed in IC"
   ]
  },
  {
   "cell_type": "code",
   "execution_count": null,
   "metadata": {
    "colab": {},
    "colab_type": "code",
    "id": "QhTWv3yeEHSM"
   },
   "outputs": [],
   "source": [
    "country_df['Confirmed_IC'] = country_df['Confirmed']*0.1\n",
    "df_estimates['Predictions_IC'] = df_estimates['Predictions']*0.1\n",
    "df_estimates['IC caspacity (national)'] = ESTIMATED_IC_CAPACITY"
   ]
  },
  {
   "cell_type": "markdown",
   "metadata": {
    "colab_type": "text",
    "id": "6ze-RDWmEHSP"
   },
   "source": [
    "### Plot results"
   ]
  },
  {
   "cell_type": "code",
   "execution_count": null,
   "metadata": {
    "colab": {
     "base_uri": "https://localhost:8080/",
     "height": 615
    },
    "colab_type": "code",
    "executionInfo": {
     "elapsed": 38989,
     "status": "ok",
     "timestamp": 1584257055212,
     "user": {
      "displayName": "Matteo Barbieri",
      "photoUrl": "https://lh3.googleusercontent.com/a-/AOh14GgtsPZKZVWWfohpcJujBF0TCOZo3Pk_wYJgU-cK=s64",
      "userId": "03032937856915207277"
     },
     "user_tz": -60
    },
    "id": "gFaGnZ2jEHSP",
    "outputId": "33fd5c37-0178-4b3a-a700-ca0368be1728"
   },
   "outputs": [],
   "source": [
    "ax = plt.gca()\n",
    "\n",
    "country_df.plot(x='Date', y=[\"Confirmed_IC\"], figsize=(20,10), ax=ax, marker='o')\n",
    "df_estimates.plot(x='Date', y=[\"Predictions_IC\"], figsize=(20,10), ax=ax, marker='o')\n",
    "# df_estimates.plot(x='Date', y=['IC caspacity (national)'], ax=ax, color='red', ls='--')\n",
    "plt.title(\"Number of people in IC\");\n",
    "\n",
    "sns.set_style(\"whitegrid\", {'grid.linestyle': ':'})\n",
    "\n",
    "# ax.yaxis.set_major_locator(ticker.MultipleLocator(1000))\n",
    "ax.xaxis.set_major_locator(ticker.MultipleLocator(3))\n",
    "\n",
    "ax.set_ylabel(\"# of people requiring IC (estimate)\");\n",
    "\n",
    "ax.axhline(ESTIMATED_IC_CAPACITY, 0, 1, ls=':', color='red')\n",
    "\n",
    "ax.annotate('IC caspacity (national)', xy=(\"2020-02-23\", 5000), xytext=(\"2020-02-16\", 5500),\n",
    "            arrowprops=dict(facecolor='black', shrink=0.05));\n",
    "\n",
    "plt.savefig(\"IC_estimates.png\");"
   ]
  },
  {
   "cell_type": "code",
   "execution_count": null,
   "metadata": {
    "colab": {
     "base_uri": "https://localhost:8080/",
     "height": 615
    },
    "colab_type": "code",
    "executionInfo": {
     "elapsed": 40635,
     "status": "ok",
     "timestamp": 1584257056864,
     "user": {
      "displayName": "Matteo Barbieri",
      "photoUrl": "https://lh3.googleusercontent.com/a-/AOh14GgtsPZKZVWWfohpcJujBF0TCOZo3Pk_wYJgU-cK=s64",
      "userId": "03032937856915207277"
     },
     "user_tz": -60
    },
    "id": "eLLVsxfXEHSS",
    "outputId": "0206c65b-5e72-402e-f138-0f78830e59ac"
   },
   "outputs": [],
   "source": [
    "ax = plt.gca()\n",
    "\n",
    "country_df.plot(x='Date', y=[\"Confirmed_IC\"], figsize=(20,10), ax=ax, marker='o')\n",
    "df_estimates.plot(x='Date', y=[\"Predictions_IC\"], figsize=(20,10), ax=ax, logy=True)\n",
    "# df_estimates.plot(x='Date', y=['IC caspacity (national)'], ax=ax, color='red', ls='--', logy=True)\n",
    "plt.title(\"Number of people in IC (logscale)\");\n",
    "\n",
    "sns.set_style(\"whitegrid\", {'grid.linestyle': ':'})\n",
    "\n",
    "ax.axhline(ESTIMATED_IC_CAPACITY, 0, 1, ls=':', color='red')\n",
    "\n",
    "ax.annotate('IC caspacity (national)', xy=(\"2020-02-23\", 5000), xytext=(\"2020-02-16\", 1500),\n",
    "            arrowprops=dict(facecolor='black', shrink=0.05));\n",
    "\n",
    "# ax.yaxis.set_major_locator(ticker.MultipleLocator(1000))\n",
    "ax.xaxis.set_major_locator(ticker.MultipleLocator(3))\n",
    "\n",
    "ax.set_ylabel(\"# of people requiring IC (estimate)\");\n",
    "\n",
    "plt.savefig(\"IC_estimates_logscale.png\");"
   ]
  },
  {
   "cell_type": "markdown",
   "metadata": {
    "colab_type": "text",
    "id": "vKXEx2EzEHST"
   },
   "source": [
    "## Countries comparison\n",
    "\n",
    "Dates for Italy, Norway and Sweden have been manually aligned so that trends overlap.\n",
    "\n",
    "In addition to that, data from Italy is truncated (data from the last 9 days is omitted) so that it doesn't make lines from other countries difficult to see."
   ]
  },
  {
   "cell_type": "code",
   "execution_count": null,
   "metadata": {
    "colab": {},
    "colab_type": "code",
    "id": "qoAdVCcdEHSU"
   },
   "outputs": [],
   "source": [
    "def get_country_df(world_df, country_name):\n",
    "    \n",
    "    # Some countries have several Provinces/States, must aggregate\n",
    "    country_df = world_df[world_df['Country/Region'] == country_name] \\\n",
    "        .groupby([\"Country/Region\", \"Date\"]) \\\n",
    "        .sum() \\\n",
    "        .sort_values(by='Date')\n",
    "    \n",
    "    # Restore columns\n",
    "    country_df['Country/Region'] = [i[0] for i in country_df.index]\n",
    "    country_df['Date'] = [i[1] for i in country_df.index]\n",
    "    \n",
    "    return country_df\n",
    "#     return world_df[world_df['Province/State'] == country_name].sort_values(by='Date')"
   ]
  },
  {
   "cell_type": "code",
   "execution_count": null,
   "metadata": {
    "colab": {
     "base_uri": "https://localhost:8080/",
     "height": 615
    },
    "colab_type": "code",
    "executionInfo": {
     "elapsed": 3602,
     "status": "ok",
     "timestamp": 1584257094856,
     "user": {
      "displayName": "Matteo Barbieri",
      "photoUrl": "https://lh3.googleusercontent.com/a-/AOh14GgtsPZKZVWWfohpcJujBF0TCOZo3Pk_wYJgU-cK=s64",
      "userId": "03032937856915207277"
     },
     "user_tz": -60
    },
    "id": "CksrnY4UEHSW",
    "outputId": "349eb80e-c3f9-4164-daa1-c6be4e39d35f"
   },
   "outputs": [],
   "source": [
    "from datetime import timedelta\n",
    "\n",
    "ax = plt.gca()\n",
    "\n",
    "sns.set_style(\"whitegrid\", {'grid.linestyle': ':'})\n",
    "ax.yaxis.set_major_locator(ticker.MultipleLocator(Y_GRID_TICK/5))\n",
    "ax.xaxis.set_major_locator(ticker.MultipleLocator(3))\n",
    "ax.xaxis.set_major_formatter(mdates.DateFormatter('%d-%m-%Y'))\n",
    "\n",
    "\n",
    "countries_to_plot = [\n",
    "#     \"Italy\",\n",
    "    \"Spain\",\n",
    "    \"France\",\n",
    "    \"Germany\",\n",
    "#     \"Norway\",\n",
    "#     \"Sweden\",\n",
    "]\n",
    "\n",
    "for cc in countries_to_plot:\n",
    "    c_df = get_country_df(world_df, cc)\n",
    "    c_df = c_df[c_df['Date'] > datetime(2020, 2,14).date()]\n",
    "    \n",
    "    c_df.plot(x='Date', y=[\"Confirmed\"], figsize=(20,10), ax=ax, marker='o', alpha=0.2)\n",
    "    pass\n",
    "\n",
    "italy_delayed = get_country_df(world_df, \"Italy\")\n",
    "italy_delayed = italy_delayed.iloc[:-9,:]\n",
    "\n",
    "spain_df = get_country_df(world_df, \"Spain\")\n",
    "italy_delayed['Date'] = list(spain_df[spain_df['Date'] >= datetime(2020, 2, 9).date()]['Date'])\n",
    "\n",
    "# Update date dynamically\n",
    "end_date_skandinavia = (datetime.today() - timedelta(days=6)).date().strftime(\"%m-%d-%Y\")\n",
    "\n",
    "norway_anticipated = get_country_df(world_df, \"Norway\")\n",
    "norway_anticipated['Date'] = pd.date_range(end=end_date_skandinavia, periods=len(norway_anticipated))\n",
    "\n",
    "sweden_anticipated = get_country_df(world_df, \"Sweden\")\n",
    "sweden_anticipated['Date'] = pd.date_range(end=end_date_skandinavia, periods=len(sweden_anticipated))\n",
    "\n",
    "# Plot adjusted countries\n",
    "italy_delayed = italy_delayed[italy_delayed['Date'] > datetime(2020, 2,14).date()]\n",
    "italy_delayed.plot(x='Date', y=[\"Confirmed\"], figsize=(20,10), ax=ax, marker='x', ls=\"--\")\n",
    "\n",
    "norway_anticipated = norway_anticipated[norway_anticipated['Date'] > \"2020-02-14\"]\n",
    "sweden_anticipated = sweden_anticipated[sweden_anticipated['Date'] > \"2020-02-14\"]\n",
    "\n",
    "norway_anticipated.plot(x='Date', y=[\"Confirmed\"], figsize=(20,10), ax=ax, marker='x')\n",
    "sweden_anticipated.plot(x='Date', y=[\"Confirmed\"], figsize=(20,10), ax=ax, marker='x')\n",
    "\n",
    "ax.legend(countries_to_plot + ['Italy (delayed)', 'Norway (anticipated)', 'Sweden (anticipated)'])\n",
    "ax.set_ylabel(\"# of confirmed cases\")\n",
    "\n",
    "plt.title(\"Date-aligned data\");\n",
    "\n",
    "plt.savefig(\"europe_aligned_dates.png\");"
   ]
  },
  {
   "cell_type": "code",
   "execution_count": null,
   "metadata": {
    "colab": {
     "base_uri": "https://localhost:8080/",
     "height": 233
    },
    "colab_type": "code",
    "executionInfo": {
     "elapsed": 3589,
     "status": "ok",
     "timestamp": 1584257094856,
     "user": {
      "displayName": "Matteo Barbieri",
      "photoUrl": "https://lh3.googleusercontent.com/a-/AOh14GgtsPZKZVWWfohpcJujBF0TCOZo3Pk_wYJgU-cK=s64",
      "userId": "03032937856915207277"
     },
     "user_tz": -60
    },
    "id": "UH2atrxPEHSa",
    "outputId": "d501688b-bece-4b91-e5f0-d4f4fb3d8931"
   },
   "outputs": [],
   "source": [
    "get_country_df(world_df, \"Spain\").tail()"
   ]
  },
  {
   "cell_type": "code",
   "execution_count": null,
   "metadata": {
    "colab": {
     "base_uri": "https://localhost:8080/",
     "height": 35
    },
    "colab_type": "code",
    "executionInfo": {
     "elapsed": 3582,
     "status": "ok",
     "timestamp": 1584257094857,
     "user": {
      "displayName": "Matteo Barbieri",
      "photoUrl": "https://lh3.googleusercontent.com/a-/AOh14GgtsPZKZVWWfohpcJujBF0TCOZo3Pk_wYJgU-cK=s64",
      "userId": "03032937856915207277"
     },
     "user_tz": -60
    },
    "id": "CGFYo2ljEHSd",
    "outputId": "f16eab75-989f-4b62-9386-02c08ea1651f"
   },
   "outputs": [],
   "source": [
    "get_country_df(world_df, \"Spain\")['Confirmed'][-1]"
   ]
  },
  {
   "cell_type": "code",
   "execution_count": null,
   "metadata": {
    "colab": {},
    "colab_type": "code",
    "id": "rDdI9jh0EHSg"
   },
   "outputs": [],
   "source": [
    "\n",
    "daily_increase_df = pd.DataFrame(columns=['Country', 'Date', 'Increase'])\n",
    "\n",
    "N_data_points = 10\n",
    "\n",
    "countries = [\n",
    "    'Spain', \n",
    "    'France', \n",
    "    'Germany', \n",
    "    'Italy', \n",
    "    'Norway', \n",
    "    'Sweden',\n",
    "]\n",
    "\n",
    "for c in countries:\n",
    "\n",
    "    c_df = get_country_df(world_df, c)\n",
    "\n",
    "    for i in range(N_data_points):\n",
    "        inc = c_df['Confirmed'][-N_data_points+i]/c_df['Confirmed'][-N_data_points+i-1]\n",
    "\n",
    "        daily_increase_df_row = pd.DataFrame.from_dict({'Country': [c], 'Date': [c_df['Date'][-N_data_points+i]], 'Increase': [inc]})\n",
    "\n",
    "        daily_increase_df = pd.concat((daily_increase_df, daily_increase_df_row), ignore_index=True)\n",
    "        \n",
    "daily_increase_df['Increase_p'] = (daily_increase_df['Increase'] - 1) * 100"
   ]
  },
  {
   "cell_type": "code",
   "execution_count": null,
   "metadata": {
    "colab": {
     "base_uri": "https://localhost:8080/",
     "height": 745
    },
    "colab_type": "code",
    "executionInfo": {
     "elapsed": 5290,
     "status": "ok",
     "timestamp": 1584257096576,
     "user": {
      "displayName": "Matteo Barbieri",
      "photoUrl": "https://lh3.googleusercontent.com/a-/AOh14GgtsPZKZVWWfohpcJujBF0TCOZo3Pk_wYJgU-cK=s64",
      "userId": "03032937856915207277"
     },
     "user_tz": -60
    },
    "id": "F75EYfQyEHSi",
    "outputId": "27245108-210d-4f7e-be59-3f586779d5f5"
   },
   "outputs": [],
   "source": [
    "ax = plt.gca()\n",
    "\n",
    "sns.set_style(\"whitegrid\", {'grid.linestyle': ':'})\n",
    "# ax.yaxis.set_major_locator(ticker.MultipleLocator(100))\n",
    "ax.xaxis.set_major_locator(ticker.MultipleLocator(3))\n",
    "ax.xaxis.set_major_formatter(mdates.DateFormatter('%d-%m-%Y'))\n",
    "\n",
    "\n",
    "legend_strings = list()\n",
    "\n",
    "\n",
    "for c in countries:\n",
    "    \n",
    "    daily_increase_df_country = daily_increase_df[daily_increase_df['Country'] == c].copy()\n",
    "    \n",
    "    daily_increase_df_country['Average'] = daily_increase_df_country['Increase'].mean()\n",
    "    daily_increase_df_country['Average_p'] = daily_increase_df_country['Increase_p'].mean()\n",
    "    \n",
    "    # Plot daily increase\n",
    "    daily_increase_df_country.plot(x='Date', y=[\"Increase_p\"], figsize=(20,10), ax=ax, marker='o')\n",
    "    \n",
    "#     ax.lines[-1].set_label(c)\n",
    "    \n",
    "    # Plot mean (no label)\n",
    "    \n",
    "    daily_increase_df_country.plot(\n",
    "        x='Date', y=[\"Average_p\"], \n",
    "        figsize=(20,10), ax=ax, ls=\"--\", alpha=0.4, color=ax.lines[-1].get_color(), legend=False)\n",
    "    \n",
    "#     print(dir(ax.lines[-1]))\n",
    "    \n",
    "#     ax.lines[-1].set_label(\"_\")\n",
    "    \n",
    "#     legend_strings.extend([c, f\"{c} (average)\"])\n",
    "    legend_strings.extend([c, \"_\"])\n",
    "    \n",
    "ax.legend(legend_strings)\n",
    "# ax.legend(countries)\n",
    "\n",
    "# Limit y range to increase visibility\n",
    "# ax.set_ylim(1, 2.2);\n",
    "ax.set_ylim(0, 100);\n",
    "\n",
    "ax.set_title(\"Daily % increase in the last 10 days (dashed line is the average for each country)\");\n",
    "plt.savefig(\"europe_daily_increase_10days.png\");\n"
   ]
  }
 ],
 "metadata": {
  "colab": {
   "collapsed_sections": [
    "C1zkadfGEHSE"
   ],
   "name": "projections_covid2019_italy.ipynb",
   "provenance": []
  },
  "kernelspec": {
   "display_name": "Python 3",
   "language": "python",
   "name": "python3"
  },
  "language_info": {
   "codemirror_mode": {
    "name": "ipython",
    "version": 3
   },
   "file_extension": ".py",
   "mimetype": "text/x-python",
   "name": "python",
   "nbconvert_exporter": "python",
   "pygments_lexer": "ipython3",
   "version": "3.7.6"
  }
 },
 "nbformat": 4,
 "nbformat_minor": 4
}
