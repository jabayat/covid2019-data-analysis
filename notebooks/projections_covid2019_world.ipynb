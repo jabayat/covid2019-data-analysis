{
 "cells": [
  {
   "cell_type": "code",
   "execution_count": 1,
   "metadata": {
    "colab": {},
    "colab_type": "code",
    "id": "831xWIlgEHRN"
   },
   "outputs": [],
   "source": [
    "%reload_ext autoreload\n",
    "%autoreload 2"
   ]
  },
  {
   "cell_type": "code",
   "execution_count": 2,
   "metadata": {
    "colab": {},
    "colab_type": "code",
    "id": "muiHDDviEHRS"
   },
   "outputs": [],
   "source": [
    "import os, sys, glob"
   ]
  },
  {
   "cell_type": "code",
   "execution_count": 3,
   "metadata": {
    "colab": {},
    "colab_type": "code",
    "id": "YeI7NGDLEHRV"
   },
   "outputs": [],
   "source": [
    "import pandas as pd\n",
    "\n",
    "import numpy as np\n",
    "\n",
    "import seaborn as sns\n",
    "\n",
    "import matplotlib.pyplot as plt\n",
    "\n",
    "import matplotlib.ticker as ticker\n",
    "\n",
    "import matplotlib.dates as mdates"
   ]
  },
  {
   "cell_type": "code",
   "execution_count": 26,
   "metadata": {
    "colab": {},
    "colab_type": "code",
    "id": "Et3U3QXLEHRY"
   },
   "outputs": [],
   "source": [
    "from datetime import datetime, timedelta"
   ]
  },
  {
   "cell_type": "markdown",
   "metadata": {
    "colab_type": "text",
    "id": "daQZs08XHDUG"
   },
   "source": [
    "### Setup"
   ]
  },
  {
   "cell_type": "code",
   "execution_count": 5,
   "metadata": {
    "colab": {},
    "colab_type": "code",
    "id": "-nvd6ozNEHRa"
   },
   "outputs": [],
   "source": [
    "DATA_DIR = \"../csse_covid_19_data/csse_covid_19_daily_reports\""
   ]
  },
  {
   "cell_type": "markdown",
   "metadata": {
    "colab_type": "text",
    "id": "rXwXs7bOEHRg"
   },
   "source": [
    "## Data loading"
   ]
  },
  {
   "cell_type": "code",
   "execution_count": 6,
   "metadata": {
    "colab": {},
    "colab_type": "code",
    "id": "mIMG7DZ1EHRh"
   },
   "outputs": [],
   "source": [
    "csv_files = glob.glob(DATA_DIR + \"/*.csv\")"
   ]
  },
  {
   "cell_type": "code",
   "execution_count": 7,
   "metadata": {},
   "outputs": [],
   "source": [
    "csv_files = sorted(csv_files)"
   ]
  },
  {
   "cell_type": "code",
   "execution_count": 8,
   "metadata": {
    "colab": {},
    "colab_type": "code",
    "id": "ZFoaIm8nEHRj"
   },
   "outputs": [],
   "source": [
    "def extract_date(file_name):\n",
    "    date_str = os.path.basename(file_name)[:-4]\n",
    "    \n",
    "    date = datetime.strptime(date_str, '%m-%d-%Y').date()\n",
    "    \n",
    "    return date"
   ]
  },
  {
   "cell_type": "code",
   "execution_count": 9,
   "metadata": {
    "colab": {
     "base_uri": "https://localhost:8080/",
     "height": 176
    },
    "colab_type": "code",
    "executionInfo": {
     "elapsed": 34263,
     "status": "ok",
     "timestamp": 1584257050354,
     "user": {
      "displayName": "Matteo Barbieri",
      "photoUrl": "https://lh3.googleusercontent.com/a-/AOh14GgtsPZKZVWWfohpcJujBF0TCOZo3Pk_wYJgU-cK=s64",
      "userId": "03032937856915207277"
     },
     "user_tz": -60
    },
    "id": "3U0NXZgdEHRn",
    "outputId": "f44fac68-46bd-4b03-f59b-f3da7ae9be0e"
   },
   "outputs": [],
   "source": [
    "world_df = None\n",
    "\n",
    "fields_mapping_dic = {\n",
    "    \"Province/State\":\"Province_State\",\n",
    "    \"Country/Region\":\"Country_Region\",\n",
    "    \"Last Update\":\"Last_Update\",\n",
    "    \"Confirmed\":\"Confirmed\",\n",
    "    \"Deaths\":\"Deaths\",\n",
    "    \"Recovered\":\"Recovered\",\n",
    "    \"Latitude\":\"Lat\",\n",
    "    \"Longitude\":\"Long_\"\n",
    "}\n",
    "\n",
    "for csv_file in csv_files:\n",
    "    \n",
    "    df = pd.read_csv(csv_file)\n",
    "    date = extract_date(csv_file)\n",
    "    \n",
    "    if date >= datetime.strptime(\"03-23-2020\", '%m-%d-%Y').date():\n",
    "        for k, v in fields_mapping_dic.items():\n",
    "            df[k] = df[v]\n",
    "        pass\n",
    "        \n",
    "    \n",
    "    df['Date'] = date\n",
    "    \n",
    "    if world_df is None:\n",
    "        world_df = df\n",
    "    else:\n",
    "        world_df = pd.concat((world_df, df), ignore_index=True)"
   ]
  },
  {
   "cell_type": "markdown",
   "metadata": {
    "colab_type": "text",
    "id": "yxVCtQP8EHRq"
   },
   "source": [
    "### Setup individual country"
   ]
  },
  {
   "cell_type": "code",
   "execution_count": 10,
   "metadata": {},
   "outputs": [],
   "source": [
    "# To simulate date up to the 8th of march 2020\n",
    "# world_df = world_df[world_df['Date'] <= datetime.strptime(\"03-08-2020\", '%m-%d-%Y').date()].copy()"
   ]
  },
  {
   "cell_type": "code",
   "execution_count": 11,
   "metadata": {
    "colab": {},
    "colab_type": "code",
    "id": "I44OQFVlEHRr"
   },
   "outputs": [],
   "source": [
    "# Uncomment in case you want to check the list of countries with available data\n",
    "\n",
    "# world_df['Country/Region'].unique()"
   ]
  },
  {
   "cell_type": "code",
   "execution_count": 12,
   "metadata": {},
   "outputs": [],
   "source": [
    "countries_parameters = dict()\n",
    "\n",
    "countries_parameters['Italy'] = {\n",
    "    'ESTIMATED_IC_CAPACITY': 5000,\n",
    "    'START_DATE': datetime(2020, 2, 23).date()\n",
    "}\n",
    "\n",
    "countries_parameters['Sweden'] = {\n",
    "    'ESTIMATED_IC_CAPACITY': 1000,\n",
    "    'START_DATE': datetime(2020, 2, 29).date()\n",
    "}\n",
    "\n",
    "countries_parameters['United Kingdom'] = {\n",
    "    'ESTIMATED_IC_CAPACITY': 5000,\n",
    "    'START_DATE': datetime(2020, 3, 12).date()\n",
    "}"
   ]
  },
  {
   "cell_type": "code",
   "execution_count": 13,
   "metadata": {
    "colab": {},
    "colab_type": "code",
    "id": "PjTDvD--EHRt"
   },
   "outputs": [],
   "source": [
    "country_name = \"Italy\"\n",
    "\n",
    "ESTIMATED_IC_CAPACITY = countries_parameters[country_name]['ESTIMATED_IC_CAPACITY']\n",
    "START_DATE = countries_parameters[country_name]['START_DATE']"
   ]
  },
  {
   "cell_type": "code",
   "execution_count": 14,
   "metadata": {
    "colab": {},
    "colab_type": "code",
    "id": "qoAdVCcdEHSU"
   },
   "outputs": [],
   "source": [
    "def get_country_df(world_df, country_name):\n",
    "    \n",
    "    # Some countries have several Provinces/States, must aggregate\n",
    "    country_df = world_df[world_df['Country/Region'] == country_name] \\\n",
    "        .groupby([\"Country/Region\", \"Date\"]) \\\n",
    "        .sum() \\\n",
    "        .sort_values(by='Date')\n",
    "    \n",
    "    # Restore columns\n",
    "    country_df['Country/Region'] = [i[0] for i in country_df.index]\n",
    "    country_df['Date'] = [i[1] for i in country_df.index]\n",
    "    \n",
    "    return country_df\n",
    "#     return world_df[world_df['Province/State'] == country_name].sort_values(by='Date')"
   ]
  },
  {
   "cell_type": "code",
   "execution_count": 15,
   "metadata": {
    "colab": {},
    "colab_type": "code",
    "id": "oeGPQwhcEHRv"
   },
   "outputs": [],
   "source": [
    "# Get data for a single country, sorted by date\n",
    "# country_df = world_df[world_df['Country/Region'] == country_name]\n",
    "\n",
    "country_df = get_country_df(world_df, country_name)\n",
    "\n",
    "country_df['Increase'] = country_df['Confirmed'].diff()"
   ]
  },
  {
   "cell_type": "code",
   "execution_count": 16,
   "metadata": {
    "colab": {
     "base_uri": "https://localhost:8080/",
     "height": 79
    },
    "colab_type": "code",
    "executionInfo": {
     "elapsed": 34234,
     "status": "ok",
     "timestamp": 1584257050356,
     "user": {
      "displayName": "Matteo Barbieri",
      "photoUrl": "https://lh3.googleusercontent.com/a-/AOh14GgtsPZKZVWWfohpcJujBF0TCOZo3Pk_wYJgU-cK=s64",
      "userId": "03032937856915207277"
     },
     "user_tz": -60
    },
    "id": "k0TGacUOEHRx",
    "outputId": "57c0f91a-a0e1-448c-9d81-4f084029c0d9"
   },
   "outputs": [],
   "source": [
    "# Uncomment to check data for a specific day\n",
    "\n",
    "# country_df[country_df['Date'] == datetime.strptime(\"03-23-2020\", '%m-%d-%Y').date()]"
   ]
  },
  {
   "cell_type": "code",
   "execution_count": 17,
   "metadata": {
    "colab": {
     "base_uri": "https://localhost:8080/",
     "height": 202
    },
    "colab_type": "code",
    "executionInfo": {
     "elapsed": 34229,
     "status": "ok",
     "timestamp": 1584257050357,
     "user": {
      "displayName": "Matteo Barbieri",
      "photoUrl": "https://lh3.googleusercontent.com/a-/AOh14GgtsPZKZVWWfohpcJujBF0TCOZo3Pk_wYJgU-cK=s64",
      "userId": "03032937856915207277"
     },
     "user_tz": -60
    },
    "id": "49um6A8XEHRz",
    "outputId": "03fb6729-b926-4a4b-8e58-30f9dcbd4133"
   },
   "outputs": [
    {
     "data": {
      "text/html": [
       "<div>\n",
       "<style scoped>\n",
       "    .dataframe tbody tr th:only-of-type {\n",
       "        vertical-align: middle;\n",
       "    }\n",
       "\n",
       "    .dataframe tbody tr th {\n",
       "        vertical-align: top;\n",
       "    }\n",
       "\n",
       "    .dataframe thead th {\n",
       "        text-align: right;\n",
       "    }\n",
       "</style>\n",
       "<table border=\"1\" class=\"dataframe\">\n",
       "  <thead>\n",
       "    <tr style=\"text-align: right;\">\n",
       "      <th></th>\n",
       "      <th></th>\n",
       "      <th>Confirmed</th>\n",
       "      <th>Deaths</th>\n",
       "      <th>Recovered</th>\n",
       "      <th>Latitude</th>\n",
       "      <th>Longitude</th>\n",
       "      <th>FIPS</th>\n",
       "      <th>Lat</th>\n",
       "      <th>Long_</th>\n",
       "      <th>Active</th>\n",
       "      <th>Country/Region</th>\n",
       "      <th>Date</th>\n",
       "      <th>Increase</th>\n",
       "    </tr>\n",
       "    <tr>\n",
       "      <th>Country/Region</th>\n",
       "      <th>Date</th>\n",
       "      <th></th>\n",
       "      <th></th>\n",
       "      <th></th>\n",
       "      <th></th>\n",
       "      <th></th>\n",
       "      <th></th>\n",
       "      <th></th>\n",
       "      <th></th>\n",
       "      <th></th>\n",
       "      <th></th>\n",
       "      <th></th>\n",
       "      <th></th>\n",
       "    </tr>\n",
       "  </thead>\n",
       "  <tbody>\n",
       "    <tr>\n",
       "      <th rowspan=\"5\" valign=\"top\">Italy</th>\n",
       "      <th>2020-03-21</th>\n",
       "      <td>53578.0</td>\n",
       "      <td>4825.0</td>\n",
       "      <td>6072.0</td>\n",
       "      <td>41.87190</td>\n",
       "      <td>12.56740</td>\n",
       "      <td>0.0</td>\n",
       "      <td>0.00000</td>\n",
       "      <td>0.00000</td>\n",
       "      <td>0.0</td>\n",
       "      <td>Italy</td>\n",
       "      <td>2020-03-21</td>\n",
       "      <td>6557.0</td>\n",
       "    </tr>\n",
       "    <tr>\n",
       "      <th>2020-03-23</th>\n",
       "      <td>63927.0</td>\n",
       "      <td>6077.0</td>\n",
       "      <td>7432.0</td>\n",
       "      <td>41.87194</td>\n",
       "      <td>12.56738</td>\n",
       "      <td>0.0</td>\n",
       "      <td>41.87194</td>\n",
       "      <td>12.56738</td>\n",
       "      <td>50418.0</td>\n",
       "      <td>Italy</td>\n",
       "      <td>2020-03-23</td>\n",
       "      <td>10349.0</td>\n",
       "    </tr>\n",
       "    <tr>\n",
       "      <th>2020-03-24</th>\n",
       "      <td>69176.0</td>\n",
       "      <td>6820.0</td>\n",
       "      <td>8326.0</td>\n",
       "      <td>41.87194</td>\n",
       "      <td>12.56738</td>\n",
       "      <td>0.0</td>\n",
       "      <td>41.87194</td>\n",
       "      <td>12.56738</td>\n",
       "      <td>54030.0</td>\n",
       "      <td>Italy</td>\n",
       "      <td>2020-03-24</td>\n",
       "      <td>5249.0</td>\n",
       "    </tr>\n",
       "    <tr>\n",
       "      <th>2020-03-25</th>\n",
       "      <td>74386.0</td>\n",
       "      <td>7503.0</td>\n",
       "      <td>9362.0</td>\n",
       "      <td>41.87194</td>\n",
       "      <td>12.56738</td>\n",
       "      <td>0.0</td>\n",
       "      <td>41.87194</td>\n",
       "      <td>12.56738</td>\n",
       "      <td>57521.0</td>\n",
       "      <td>Italy</td>\n",
       "      <td>2020-03-25</td>\n",
       "      <td>5210.0</td>\n",
       "    </tr>\n",
       "    <tr>\n",
       "      <th>2020-03-26</th>\n",
       "      <td>80589.0</td>\n",
       "      <td>8215.0</td>\n",
       "      <td>10361.0</td>\n",
       "      <td>41.87194</td>\n",
       "      <td>12.56738</td>\n",
       "      <td>0.0</td>\n",
       "      <td>41.87194</td>\n",
       "      <td>12.56738</td>\n",
       "      <td>62013.0</td>\n",
       "      <td>Italy</td>\n",
       "      <td>2020-03-26</td>\n",
       "      <td>6203.0</td>\n",
       "    </tr>\n",
       "  </tbody>\n",
       "</table>\n",
       "</div>"
      ],
      "text/plain": [
       "                           Confirmed  Deaths  Recovered  Latitude  Longitude  \\\n",
       "Country/Region Date                                                            \n",
       "Italy          2020-03-21    53578.0  4825.0     6072.0  41.87190   12.56740   \n",
       "               2020-03-23    63927.0  6077.0     7432.0  41.87194   12.56738   \n",
       "               2020-03-24    69176.0  6820.0     8326.0  41.87194   12.56738   \n",
       "               2020-03-25    74386.0  7503.0     9362.0  41.87194   12.56738   \n",
       "               2020-03-26    80589.0  8215.0    10361.0  41.87194   12.56738   \n",
       "\n",
       "                           FIPS       Lat     Long_   Active Country/Region  \\\n",
       "Country/Region Date                                                           \n",
       "Italy          2020-03-21   0.0   0.00000   0.00000      0.0          Italy   \n",
       "               2020-03-23   0.0  41.87194  12.56738  50418.0          Italy   \n",
       "               2020-03-24   0.0  41.87194  12.56738  54030.0          Italy   \n",
       "               2020-03-25   0.0  41.87194  12.56738  57521.0          Italy   \n",
       "               2020-03-26   0.0  41.87194  12.56738  62013.0          Italy   \n",
       "\n",
       "                                 Date  Increase  \n",
       "Country/Region Date                              \n",
       "Italy          2020-03-21  2020-03-21    6557.0  \n",
       "               2020-03-23  2020-03-23   10349.0  \n",
       "               2020-03-24  2020-03-24    5249.0  \n",
       "               2020-03-25  2020-03-25    5210.0  \n",
       "               2020-03-26  2020-03-26    6203.0  "
      ]
     },
     "execution_count": 17,
     "metadata": {},
     "output_type": "execute_result"
    }
   ],
   "source": [
    "# Check latest data\n",
    "\n",
    "s = country_df.tail()\n",
    "country_df.tail()"
   ]
  },
  {
   "cell_type": "markdown",
   "metadata": {},
   "source": [
    "Compute daily increase of confirmed cases"
   ]
  },
  {
   "cell_type": "code",
   "execution_count": 18,
   "metadata": {},
   "outputs": [],
   "source": [
    "# Estimate a reasonable value for Y tick given the maximum number of cases\n",
    "Y_GRID_TICK = 10**int(np.log10(country_df['Confirmed'].max()))/2"
   ]
  },
  {
   "cell_type": "code",
   "execution_count": 19,
   "metadata": {},
   "outputs": [],
   "source": [
    "# country_df = country_df[country_df['Date'] <= datetime.strptime(\"02-28-2020\", '%m-%d-%Y').date()]"
   ]
  },
  {
   "cell_type": "code",
   "execution_count": 20,
   "metadata": {
    "colab": {
     "base_uri": "https://localhost:8080/",
     "height": 551
    },
    "colab_type": "code",
    "executionInfo": {
     "elapsed": 2121,
     "status": "ok",
     "timestamp": 1584257404430,
     "user": {
      "displayName": "Matteo Barbieri",
      "photoUrl": "https://lh3.googleusercontent.com/a-/AOh14GgtsPZKZVWWfohpcJujBF0TCOZo3Pk_wYJgU-cK=s64",
      "userId": "03032937856915207277"
     },
     "user_tz": -60
    },
    "id": "GCEp4jcVEHR2",
    "outputId": "634f3d66-1215-4c1e-f639-1719443582a4"
   },
   "outputs": [
    {
     "data": {
      "image/png": "[encoded data removed]",
      "text/plain": [
       "<Figure size 1296x648 with 2 Axes>"
      ]
     },
     "metadata": {
      "needs_background": "light"
     },
     "output_type": "display_data"
    }
   ],
   "source": [
    "ax = plt.gca()\n",
    "\n",
    "sns.set_style(\"whitegrid\", {'grid.linestyle': ':'})\n",
    "# ax.yaxis.set_major_locator(ticker.MultipleLocator(Y_GRID_TICK))\n",
    "ax.xaxis.set_major_locator(ticker.MultipleLocator(4))\n",
    "\n",
    "country_df.plot(x='Date', y=[\"Confirmed\", \"Deaths\", \"Recovered\"], figsize=(18,9), ax=ax, marker='o')\n",
    "# country_df.plot(x='Date', y=[\"Recovered\"], figsize=(18,9), ax=ax, marker='o')\n",
    "country_df.plot(x='Date', y=[\"Increase\"], secondary_y=True, figsize=(18,9), ax=ax, marker='o')\n",
    "\n",
    "\n",
    "\n",
    "# country_df.plot(x='Date', y=[\"Recovered\"], figsize=(18,9), ax=ax, marker='o')\n",
    "\n",
    "ax.xaxis.set_major_formatter(mdates.DateFormatter('%d-%m-%Y'))\n",
    "ax.set_ylabel(\"# of confirmed cases\");\n",
    "\n",
    "ax.set_title(\"Daily numbers of confirmed cases, deaths and hospitalized people. Daily increase refers to numbers on the right y axis.\");\n",
    "\n",
    "plt.savefig(\"daily_data.png\");"
   ]
  },
  {
   "cell_type": "markdown",
   "metadata": {
    "colab_type": "text",
    "id": "Ssg_p95NEHR6"
   },
   "source": [
    "$y = e^{ax}$"
   ]
  },
  {
   "cell_type": "markdown",
   "metadata": {
    "colab_type": "text",
    "id": "VV0mEYKWEHR6"
   },
   "source": [
    "$\\ln{y} = ax$"
   ]
  },
  {
   "cell_type": "markdown",
   "metadata": {
    "colab_type": "text",
    "id": "ml5o3-M-EHR7"
   },
   "source": [
    "## ML analysis"
   ]
  },
  {
   "cell_type": "code",
   "execution_count": 21,
   "metadata": {
    "colab": {},
    "colab_type": "code",
    "id": "ucmF70b4EHR8"
   },
   "outputs": [],
   "source": [
    "from sklearn.linear_model import LinearRegression, SGDRegressor\n",
    "\n",
    "from scipy.optimize import curve_fit"
   ]
  },
  {
   "cell_type": "code",
   "execution_count": 22,
   "metadata": {
    "colab": {},
    "colab_type": "code",
    "id": "Nr37TCsYEHR9"
   },
   "outputs": [],
   "source": [
    "# Set range of data to build model\n",
    "\n",
    "# It might make sense to skip part of the initial points, when the exponential trend was still not evident"
   ]
  },
  {
   "cell_type": "markdown",
   "metadata": {},
   "source": [
    "### Simple linear fit against log values"
   ]
  },
  {
   "cell_type": "code",
   "execution_count": 23,
   "metadata": {
    "colab": {},
    "colab_type": "code",
    "id": "EBTLNkufEHSA"
   },
   "outputs": [],
   "source": [
    "# Prepare value vectors\n",
    "\n",
    "# The acual values\n",
    "y = country_df[country_df['Date'] >= START_DATE]['Confirmed']\n",
    "\n",
    "# The log values\n",
    "y_log = np.log(y)\n",
    "\n",
    "# Independent variable\n",
    "x = np.arange(len(y))"
   ]
  },
  {
   "cell_type": "code",
   "execution_count": 24,
   "metadata": {
    "colab": {
     "base_uri": "https://localhost:8080/",
     "height": 35
    },
    "colab_type": "code",
    "executionInfo": {
     "elapsed": 35948,
     "status": "ok",
     "timestamp": 1584257052133,
     "user": {
      "displayName": "Matteo Barbieri",
      "photoUrl": "https://lh3.googleusercontent.com/a-/AOh14GgtsPZKZVWWfohpcJujBF0TCOZo3Pk_wYJgU-cK=s64",
      "userId": "03032937856915207277"
     },
     "user_tz": -60
    },
    "id": "KtVT1AZQEHSC",
    "outputId": "09501f96-ce9a-4202-b1ba-d667debeee2d"
   },
   "outputs": [
    {
     "data": {
      "text/plain": [
       "LinearRegression(copy_X=True, fit_intercept=True, n_jobs=None, normalize=False)"
      ]
     },
     "execution_count": 24,
     "metadata": {},
     "output_type": "execute_result"
    }
   ],
   "source": [
    "reg_unweighted = LinearRegression()\n",
    "reg_unweighted.fit(x[:,np.newaxis], y_log)\n",
    "\n",
    "reg_weighted = LinearRegression()\n",
    "reg_weighted.fit(x[:,np.newaxis], y_log, sample_weight=y)"
   ]
  },
  {
   "cell_type": "markdown",
   "metadata": {
    "colab_type": "text",
    "id": "C1zkadfGEHSE"
   },
   "source": [
    "### Create dataframe with estimates"
   ]
  },
  {
   "cell_type": "code",
   "execution_count": 25,
   "metadata": {
    "colab": {},
    "colab_type": "code",
    "id": "HY-Kq4_aEHSH"
   },
   "outputs": [
    {
     "ename": "NameError",
     "evalue": "name 'timedelta' is not defined",
     "output_type": "error",
     "traceback": [
      "\u001b[0;31m---------------------------------------------------------------------------\u001b[0m",
      "\u001b[0;31mNameError\u001b[0m                                 Traceback (most recent call last)",
      "\u001b[0;32m<ipython-input-25-dddfe8b75231>\u001b[0m in \u001b[0;36m<module>\u001b[0;34m\u001b[0m\n\u001b[1;32m      1\u001b[0m \u001b[0;31m# PREDICT_UNTIL = '03/27/2020'\u001b[0m\u001b[0;34m\u001b[0m\u001b[0;34m\u001b[0m\u001b[0;34m\u001b[0m\u001b[0m\n\u001b[0;32m----> 2\u001b[0;31m \u001b[0mPREDICT_UNTIL\u001b[0m \u001b[0;34m=\u001b[0m \u001b[0;34m(\u001b[0m\u001b[0mdatetime\u001b[0m\u001b[0;34m.\u001b[0m\u001b[0mtoday\u001b[0m\u001b[0;34m(\u001b[0m\u001b[0;34m)\u001b[0m \u001b[0;34m+\u001b[0m \u001b[0mtimedelta\u001b[0m\u001b[0;34m(\u001b[0m\u001b[0mdays\u001b[0m\u001b[0;34m=\u001b[0m\u001b[0;36m2\u001b[0m\u001b[0;34m)\u001b[0m\u001b[0;34m)\u001b[0m\u001b[0;34m.\u001b[0m\u001b[0mdate\u001b[0m\u001b[0;34m(\u001b[0m\u001b[0;34m)\u001b[0m\u001b[0;34m.\u001b[0m\u001b[0mstrftime\u001b[0m\u001b[0;34m(\u001b[0m\u001b[0;34m\"%m/%d/%Y\"\u001b[0m\u001b[0;34m)\u001b[0m\u001b[0;34m\u001b[0m\u001b[0;34m\u001b[0m\u001b[0m\n\u001b[0m\u001b[1;32m      3\u001b[0m \u001b[0;34m\u001b[0m\u001b[0m\n\u001b[1;32m      4\u001b[0m \u001b[0mestimate_dates\u001b[0m \u001b[0;34m=\u001b[0m \u001b[0mpd\u001b[0m\u001b[0;34m.\u001b[0m\u001b[0mdate_range\u001b[0m\u001b[0;34m(\u001b[0m\u001b[0mstart\u001b[0m\u001b[0;34m=\u001b[0m\u001b[0mSTART_DATE\u001b[0m\u001b[0;34m.\u001b[0m\u001b[0mstrftime\u001b[0m\u001b[0;34m(\u001b[0m\u001b[0;34m\"%m/%d/%Y\"\u001b[0m\u001b[0;34m)\u001b[0m\u001b[0;34m,\u001b[0m \u001b[0mend\u001b[0m\u001b[0;34m=\u001b[0m\u001b[0mPREDICT_UNTIL\u001b[0m\u001b[0;34m)\u001b[0m\u001b[0;34m\u001b[0m\u001b[0;34m\u001b[0m\u001b[0m\n\u001b[1;32m      5\u001b[0m \u001b[0mestimate_cases_ols_unweighted\u001b[0m \u001b[0;34m=\u001b[0m \u001b[0mnp\u001b[0m\u001b[0;34m.\u001b[0m\u001b[0mexp\u001b[0m\u001b[0;34m(\u001b[0m\u001b[0mreg_unweighted\u001b[0m\u001b[0;34m.\u001b[0m\u001b[0mpredict\u001b[0m\u001b[0;34m(\u001b[0m\u001b[0mnp\u001b[0m\u001b[0;34m.\u001b[0m\u001b[0marange\u001b[0m\u001b[0;34m(\u001b[0m\u001b[0mlen\u001b[0m\u001b[0;34m(\u001b[0m\u001b[0mestimate_dates\u001b[0m\u001b[0;34m)\u001b[0m\u001b[0;34m)\u001b[0m\u001b[0;34m[\u001b[0m\u001b[0;34m:\u001b[0m\u001b[0;34m,\u001b[0m \u001b[0mnp\u001b[0m\u001b[0;34m.\u001b[0m\u001b[0mnewaxis\u001b[0m\u001b[0;34m]\u001b[0m\u001b[0;34m)\u001b[0m\u001b[0;34m)\u001b[0m\u001b[0;34m\u001b[0m\u001b[0;34m\u001b[0m\u001b[0m\n",
      "\u001b[0;31mNameError\u001b[0m: name 'timedelta' is not defined"
     ]
    }
   ],
   "source": [
    "# PREDICT_UNTIL = '03/27/2020'\n",
    "PREDICT_UNTIL = (datetime.today() + timedelta(days=2)).date().strftime(\"%m/%d/%Y\")\n",
    "\n",
    "estimate_dates = pd.date_range(start=START_DATE.strftime(\"%m/%d/%Y\"), end=PREDICT_UNTIL)\n",
    "estimate_cases_ols_unweighted = np.exp(reg_unweighted.predict(np.arange(len(estimate_dates))[:, np.newaxis]))\n",
    "estimate_cases_ols_weighted = np.exp(reg_weighted.predict(np.arange(len(estimate_dates))[:, np.newaxis]))\n",
    "\n",
    "# Make predictions\n",
    "# estimate_cases_cf = my_exp(np.arange(len(estimate_dates)), *popt)\n",
    "\n",
    "# df_estimates = pd.DataFrame({\"Date\": estimate_dates, \"Predictions\": estimate_cases})\n",
    "df_estimates = pd.DataFrame({\"Date\": estimate_dates, \"Predictions (unweighted)\": estimate_cases_ols_unweighted, \"Predictions (weighted)\": estimate_cases_ols_weighted})"
   ]
  },
  {
   "cell_type": "markdown",
   "metadata": {
    "colab_type": "text",
    "id": "3IEpP9R6EHSM"
   },
   "source": [
    "### Estimate people in IC\n",
    "\n",
    "Assume that 7% of infected people require a bed in IC (rough estimate)"
   ]
  },
  {
   "cell_type": "code",
   "execution_count": null,
   "metadata": {
    "colab": {},
    "colab_type": "code",
    "id": "QhTWv3yeEHSM"
   },
   "outputs": [],
   "source": [
    "# IC coefficient\n",
    "IC_coefficient = 0.07\n",
    "\n",
    "country_df['Confirmed_IC'] = country_df['Confirmed']*IC_coefficient\n",
    "df_estimates['Predictions IC (unweighted)'] = df_estimates['Predictions (unweighted)']*IC_coefficient\n",
    "df_estimates['Predictions IC (weighted)'] = df_estimates['Predictions (weighted)']*IC_coefficient\n",
    "\n",
    "# df_estimates['IC caspacity (national)'] = ESTIMATED_IC_CAPACITY"
   ]
  },
  {
   "cell_type": "markdown",
   "metadata": {
    "colab_type": "text",
    "id": "6ze-RDWmEHSP"
   },
   "source": [
    "### Plot results"
   ]
  },
  {
   "cell_type": "code",
   "execution_count": null,
   "metadata": {
    "colab": {
     "base_uri": "https://localhost:8080/",
     "height": 615
    },
    "colab_type": "code",
    "executionInfo": {
     "elapsed": 38989,
     "status": "ok",
     "timestamp": 1584257055212,
     "user": {
      "displayName": "Matteo Barbieri",
      "photoUrl": "https://lh3.googleusercontent.com/a-/AOh14GgtsPZKZVWWfohpcJujBF0TCOZo3Pk_wYJgU-cK=s64",
      "userId": "03032937856915207277"
     },
     "user_tz": -60
    },
    "id": "gFaGnZ2jEHSP",
    "outputId": "33fd5c37-0178-4b3a-a700-ca0368be1728"
   },
   "outputs": [],
   "source": [
    "ax = plt.gca()\n",
    "\n",
    "country_df.plot(x='Date', y=[\"Confirmed_IC\"], figsize=(20,10), ax=ax, marker='o')\n",
    "df_estimates.plot(x='Date', y=[\n",
    "#     \"Predictions IC (unweighted)\", \n",
    "    \"Predictions IC (weighted)\"\n",
    "], figsize=(20,10), ax=ax, marker='o', color=\"green\")\n",
    "\n",
    "# df_estimates.plot(x='Date', y=['IC caspacity (national)'], ax=ax, color='red', ls='--')\n",
    "plt.title(\"Number of people in IC\");\n",
    "\n",
    "sns.set_style(\"whitegrid\", {'grid.linestyle': ':'})\n",
    "\n",
    "# ax.yaxis.set_major_locator(ticker.MultipleLocator(1000))\n",
    "ax.xaxis.set_major_locator(ticker.MultipleLocator(3))\n",
    "\n",
    "ax.set_ylabel(\"# of people requiring IC (estimate)\");\n",
    "\n",
    "# ax.axhline(ESTIMATED_IC_CAPACITY, 0, 1, ls=':', color='red')\n",
    "\n",
    "# ax.annotate('IC caspacity (national)', xy=(\"2020-02-23\", ESTIMATED_IC_CAPACITY), xytext=(\"2020-02-16\", ESTIMATED_IC_CAPACITY*0.9),\n",
    "#             arrowprops=dict(facecolor='black', shrink=0.05));\n",
    "\n",
    "# ax.legend([\n",
    "#     \"Estimated cases ({:d}%)\".format(int(IC_coefficient*100)),\n",
    "#     \"Exponential fit\",\n",
    "#     \"Better exponential fit\",\n",
    "# ])\n",
    "\n",
    "plt.savefig(\"IC_estimates.png\");"
   ]
  },
  {
   "cell_type": "code",
   "execution_count": null,
   "metadata": {
    "colab": {
     "base_uri": "https://localhost:8080/",
     "height": 615
    },
    "colab_type": "code",
    "executionInfo": {
     "elapsed": 40635,
     "status": "ok",
     "timestamp": 1584257056864,
     "user": {
      "displayName": "Matteo Barbieri",
      "photoUrl": "https://lh3.googleusercontent.com/a-/AOh14GgtsPZKZVWWfohpcJujBF0TCOZo3Pk_wYJgU-cK=s64",
      "userId": "03032937856915207277"
     },
     "user_tz": -60
    },
    "id": "eLLVsxfXEHSS",
    "outputId": "0206c65b-5e72-402e-f138-0f78830e59ac"
   },
   "outputs": [],
   "source": [
    "ax = plt.gca()\n",
    "\n",
    "country_df.plot(x='Date', y=[\"Confirmed_IC\"], figsize=(20,10), ax=ax, marker='o')\n",
    "df_estimates.plot(x='Date', y=[\"Predictions IC (unweighted)\", \"Predictions IC (weighted)\"], figsize=(20,10), ax=ax, logy=True)\n",
    "# df_estimates.plot(x='Date', y=['IC caspacity (national)'], ax=ax, color='red', ls='--', logy=True)\n",
    "plt.title(\"Number of people in IC (logscale)\");\n",
    "\n",
    "sns.set_style(\"whitegrid\", {'grid.linestyle': ':'})\n",
    "\n",
    "ax.axhline(ESTIMATED_IC_CAPACITY, 0, 1, ls=':', color='red')\n",
    "\n",
    "ax.annotate('IC caspacity (national)', xy=(\"2020-02-23\", 5000), xytext=(\"2020-02-16\", 1500),\n",
    "            arrowprops=dict(facecolor='black', shrink=0.05));\n",
    "\n",
    "# ax.yaxis.set_major_locator(ticker.MultipleLocator(1000))\n",
    "ax.xaxis.set_major_locator(ticker.MultipleLocator(3))\n",
    "\n",
    "ax.set_ylabel(\"# of people requiring IC (estimate)\");\n",
    "\n",
    "plt.savefig(\"IC_estimates_logscale.png\");"
   ]
  },
  {
   "cell_type": "markdown",
   "metadata": {
    "colab_type": "text",
    "id": "vKXEx2EzEHST"
   },
   "source": [
    "## Countries comparison\n",
    "\n",
    "Dates for Italy, Norway and Sweden have been manually aligned so that trends overlap.\n",
    "\n",
    "In addition to that, data from Italy is truncated (data from the last 9 days is omitted) so that it doesn't make lines from other countries difficult to see."
   ]
  },
  {
   "cell_type": "code",
   "execution_count": null,
   "metadata": {
    "colab": {
     "base_uri": "https://localhost:8080/",
     "height": 615
    },
    "colab_type": "code",
    "executionInfo": {
     "elapsed": 3602,
     "status": "ok",
     "timestamp": 1584257094856,
     "user": {
      "displayName": "Matteo Barbieri",
      "photoUrl": "https://lh3.googleusercontent.com/a-/AOh14GgtsPZKZVWWfohpcJujBF0TCOZo3Pk_wYJgU-cK=s64",
      "userId": "03032937856915207277"
     },
     "user_tz": -60
    },
    "id": "CksrnY4UEHSW",
    "outputId": "349eb80e-c3f9-4164-daa1-c6be4e39d35f"
   },
   "outputs": [],
   "source": [
    "ax = plt.gca()\n",
    "\n",
    "sns.set_style(\"whitegrid\", {'grid.linestyle': ':'})\n",
    "# ax.yaxis.set_major_locator(ticker.MultipleLocator(Y_GRID_TICK/5))\n",
    "ax.xaxis.set_major_locator(ticker.MultipleLocator(3))\n",
    "ax.xaxis.set_major_formatter(mdates.DateFormatter('%d-%m-%Y'))\n",
    "\n",
    "\n",
    "countries_to_plot = [\n",
    "#     \"Italy\",\n",
    "    \"Spain\",\n",
    "    \"France\",\n",
    "    \"Germany\",\n",
    "#     \"Norway\",\n",
    "#     \"Sweden\",\n",
    "]\n",
    "\n",
    "for cc in countries_to_plot:\n",
    "    c_df = get_country_df(world_df, cc)\n",
    "    c_df = c_df[c_df['Date'] > datetime(2020, 2,14).date()]\n",
    "    \n",
    "    c_df.plot(x='Date', y=[\"Confirmed\"], figsize=(20,10), ax=ax, marker='o', alpha=0.2)\n",
    "    pass\n",
    "\n",
    "italy_delayed = get_country_df(world_df, \"Italy\")\n",
    "italy_delayed = italy_delayed.iloc[:-9,:]\n",
    "\n",
    "spain_df = get_country_df(world_df, \"Spain\")\n",
    "italy_delayed['Date'] = list(spain_df[spain_df['Date'] >= datetime(2020, 2, 9).date()]['Date'])\n",
    "\n",
    "# Update date dynamically\n",
    "end_date_skandinavia = (datetime.today() - timedelta(days=6)).date().strftime(\"%m-%d-%Y\")\n",
    "# end_date_skandinavia = (datetime.today() - timedelta(days=20)).date().strftime(\"%m-%d-%Y\")\n",
    "\n",
    "norway_anticipated = get_country_df(world_df, \"Norway\")\n",
    "norway_anticipated['Date'] = pd.date_range(end=end_date_skandinavia, periods=len(norway_anticipated))\n",
    "\n",
    "sweden_anticipated = get_country_df(world_df, \"Sweden\")\n",
    "sweden_anticipated['Date'] = pd.date_range(end=end_date_skandinavia, periods=len(sweden_anticipated))\n",
    "\n",
    "# Plot adjusted countries\n",
    "italy_delayed = italy_delayed[italy_delayed['Date'] > datetime(2020, 2,14).date()]\n",
    "italy_delayed.plot(x='Date', y=[\"Confirmed\"], figsize=(20,10), ax=ax, marker='x', ls=\"--\")\n",
    "\n",
    "norway_anticipated = norway_anticipated[norway_anticipated['Date'] > \"2020-02-14\"]\n",
    "sweden_anticipated = sweden_anticipated[sweden_anticipated['Date'] > \"2020-02-14\"]\n",
    "\n",
    "norway_anticipated.plot(x='Date', y=[\"Confirmed\"], figsize=(20,10), ax=ax, marker='x')\n",
    "sweden_anticipated.plot(x='Date', y=[\"Confirmed\"], figsize=(20,10), ax=ax, marker='x')\n",
    "\n",
    "ax.legend(countries_to_plot + ['Italy (delayed)', 'Norway (anticipated)', 'Sweden (anticipated)'])\n",
    "ax.set_ylabel(\"# of confirmed cases\")\n",
    "\n",
    "plt.title(\"Date-aligned data\");\n",
    "\n",
    "plt.savefig(\"europe_aligned_dates.png\");"
   ]
  },
  {
   "cell_type": "code",
   "execution_count": null,
   "metadata": {
    "colab": {
     "base_uri": "https://localhost:8080/",
     "height": 233
    },
    "colab_type": "code",
    "executionInfo": {
     "elapsed": 3589,
     "status": "ok",
     "timestamp": 1584257094856,
     "user": {
      "displayName": "Matteo Barbieri",
      "photoUrl": "https://lh3.googleusercontent.com/a-/AOh14GgtsPZKZVWWfohpcJujBF0TCOZo3Pk_wYJgU-cK=s64",
      "userId": "03032937856915207277"
     },
     "user_tz": -60
    },
    "id": "UH2atrxPEHSa",
    "outputId": "d501688b-bece-4b91-e5f0-d4f4fb3d8931"
   },
   "outputs": [],
   "source": [
    "get_country_df(world_df, \"Spain\").tail()"
   ]
  },
  {
   "cell_type": "code",
   "execution_count": null,
   "metadata": {
    "colab": {},
    "colab_type": "code",
    "id": "rDdI9jh0EHSg"
   },
   "outputs": [],
   "source": [
    "\n",
    "daily_increase_df = pd.DataFrame(columns=['Country', 'Date', 'Increase'])\n",
    "\n",
    "N_data_points = 10\n",
    "\n",
    "countries = [\n",
    "    'Spain', \n",
    "    'France', \n",
    "    'Germany', \n",
    "    'Italy', \n",
    "    'Norway', \n",
    "    'Sweden',\n",
    "]\n",
    "\n",
    "for c in countries:\n",
    "\n",
    "    c_df = get_country_df(world_df, c)\n",
    "\n",
    "    for i in range(N_data_points):\n",
    "        inc = c_df['Confirmed'][-N_data_points+i]/c_df['Confirmed'][-N_data_points+i-1]\n",
    "\n",
    "        daily_increase_df_row = pd.DataFrame.from_dict({'Country': [c], 'Date': [c_df['Date'][-N_data_points+i]], 'Increase': [inc]})\n",
    "\n",
    "        daily_increase_df = pd.concat((daily_increase_df, daily_increase_df_row), ignore_index=True)\n",
    "        \n",
    "daily_increase_df['Increase_p'] = (daily_increase_df['Increase'] - 1) * 100"
   ]
  },
  {
   "cell_type": "code",
   "execution_count": null,
   "metadata": {
    "colab": {
     "base_uri": "https://localhost:8080/",
     "height": 745
    },
    "colab_type": "code",
    "executionInfo": {
     "elapsed": 5290,
     "status": "ok",
     "timestamp": 1584257096576,
     "user": {
      "displayName": "Matteo Barbieri",
      "photoUrl": "https://lh3.googleusercontent.com/a-/AOh14GgtsPZKZVWWfohpcJujBF0TCOZo3Pk_wYJgU-cK=s64",
      "userId": "03032937856915207277"
     },
     "user_tz": -60
    },
    "id": "F75EYfQyEHSi",
    "outputId": "27245108-210d-4f7e-be59-3f586779d5f5"
   },
   "outputs": [],
   "source": [
    "ax = plt.gca()\n",
    "\n",
    "sns.set_style(\"whitegrid\", {'grid.linestyle': ':'})\n",
    "# ax.yaxis.set_major_locator(ticker.MultipleLocator(100))\n",
    "ax.xaxis.set_major_locator(ticker.MultipleLocator(3))\n",
    "ax.xaxis.set_major_formatter(mdates.DateFormatter('%d-%m-%Y'))\n",
    "\n",
    "\n",
    "legend_strings = list()\n",
    "\n",
    "\n",
    "for c in countries:\n",
    "    \n",
    "    daily_increase_df_country = daily_increase_df[daily_increase_df['Country'] == c].copy()\n",
    "    \n",
    "    daily_increase_df_country['Average'] = daily_increase_df_country['Increase'].mean()\n",
    "    daily_increase_df_country['Average_p'] = daily_increase_df_country['Increase_p'].mean()\n",
    "    \n",
    "    # Plot daily increase\n",
    "    daily_increase_df_country.plot(x='Date', y=[\"Increase_p\"], figsize=(20,10), ax=ax, marker='o')\n",
    "    \n",
    "#     ax.lines[-1].set_label(c)\n",
    "    \n",
    "    # Plot mean (no label)\n",
    "    \n",
    "    daily_increase_df_country.plot(\n",
    "        x='Date', y=[\"Average_p\"], \n",
    "        figsize=(20,10), ax=ax, ls=\"--\", alpha=0.4, color=ax.lines[-1].get_color(), legend=False)\n",
    "    \n",
    "#     print(dir(ax.lines[-1]))\n",
    "    \n",
    "#     ax.lines[-1].set_label(\"_\")\n",
    "    \n",
    "#     legend_strings.extend([c, f\"{c} (average)\"])\n",
    "    legend_strings.extend([c, \"_\"])\n",
    "    \n",
    "ax.legend(legend_strings)\n",
    "# ax.legend(countries)\n",
    "\n",
    "# Limit y range to increase visibility\n",
    "# ax.set_ylim(1, 2.2);\n",
    "ax.set_ylim(0, 100);\n",
    "\n",
    "ax.set_title(\"Daily % increase in the last 10 days (dashed line is the average for each country)\");\n",
    "plt.savefig(\"europe_daily_increase_10days.png\");\n"
   ]
  }
 ],
 "metadata": {
  "colab": {
   "collapsed_sections": [
    "C1zkadfGEHSE"
   ],
   "name": "projections_covid2019_italy.ipynb",
   "provenance": []
  },
  "kernelspec": {
   "display_name": "Python 3",
   "language": "python",
   "name": "python3"
  },
  "language_info": {
   "codemirror_mode": {
    "name": "ipython",
    "version": 3
   },
   "file_extension": ".py",
   "mimetype": "text/x-python",
   "name": "python",
   "nbconvert_exporter": "python",
   "pygments_lexer": "ipython3",
   "version": "3.7.6"
  }
 },
 "nbformat": 4,
 "nbformat_minor": 4
}
