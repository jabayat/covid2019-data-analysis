{
 "cells": [
  {
   "cell_type": "code",
   "execution_count": 1,
   "metadata": {
    "colab": {},
    "colab_type": "code",
    "id": "831xWIlgEHRN"
   },
   "outputs": [],
   "source": [
    "%reload_ext autoreload\n",
    "%autoreload 2"
   ]
  },
  {
   "cell_type": "code",
   "execution_count": 2,
   "metadata": {
    "colab": {},
    "colab_type": "code",
    "id": "muiHDDviEHRS"
   },
   "outputs": [],
   "source": [
    "import os, sys, glob"
   ]
  },
  {
   "cell_type": "code",
   "execution_count": 3,
   "metadata": {
    "colab": {},
    "colab_type": "code",
    "id": "YeI7NGDLEHRV"
   },
   "outputs": [],
   "source": [
    "import pandas as pd\n",
    "\n",
    "import numpy as np\n",
    "\n",
    "import seaborn as sns\n",
    "\n",
    "import matplotlib.pyplot as plt\n",
    "\n",
    "import matplotlib.ticker as ticker\n",
    "\n",
    "import matplotlib.dates as mdates"
   ]
  },
  {
   "cell_type": "code",
   "execution_count": 4,
   "metadata": {
    "colab": {},
    "colab_type": "code",
    "id": "Et3U3QXLEHRY"
   },
   "outputs": [],
   "source": [
    "from datetime import datetime"
   ]
  },
  {
   "cell_type": "markdown",
   "metadata": {
    "colab_type": "text",
    "id": "PTPOH-ehF1p9"
   },
   "source": [
    "### Required for google colab"
   ]
  },
  {
   "cell_type": "markdown",
   "metadata": {
    "colab_type": "text",
    "id": "daQZs08XHDUG"
   },
   "source": [
    "### Setup"
   ]
  },
  {
   "cell_type": "code",
   "execution_count": 5,
   "metadata": {
    "colab": {},
    "colab_type": "code",
    "id": "-nvd6ozNEHRa"
   },
   "outputs": [],
   "source": [
    "DATA_DIR = \"../data-ita/dati-regioni\"\n",
    "# DATA_DIR = \"../data-ita/dati-province\""
   ]
  },
  {
   "cell_type": "markdown",
   "metadata": {
    "colab_type": "text",
    "id": "rXwXs7bOEHRg"
   },
   "source": [
    "## Data loading"
   ]
  },
  {
   "cell_type": "code",
   "execution_count": 6,
   "metadata": {
    "colab": {},
    "colab_type": "code",
    "id": "mIMG7DZ1EHRh"
   },
   "outputs": [],
   "source": [
    "csv_files = glob.glob(DATA_DIR + \"/*-2020*.csv\")"
   ]
  },
  {
   "cell_type": "code",
   "execution_count": 7,
   "metadata": {
    "colab": {},
    "colab_type": "code",
    "id": "ZFoaIm8nEHRj"
   },
   "outputs": [],
   "source": [
    "def extract_date(file_name):\n",
    "    \n",
    "    # Sample file path:\n",
    "    # '../data-ita/dati-regioni/dpc-covid19-ita-regioni-20200313.csv'\n",
    "    \n",
    "    # Remove file extension\n",
    "    date_str = os.path.basename(file_name)[:-4]\n",
    "    \n",
    "    # Extract last 8 characters\n",
    "    date_str = date_str[-8:]\n",
    "    \n",
    "    date = datetime.strptime(date_str, '%Y%m%d').date()\n",
    "    \n",
    "    return date"
   ]
  },
  {
   "cell_type": "code",
   "execution_count": 8,
   "metadata": {
    "colab": {
     "base_uri": "https://localhost:8080/",
     "height": 176
    },
    "colab_type": "code",
    "executionInfo": {
     "elapsed": 34263,
     "status": "ok",
     "timestamp": 1584257050354,
     "user": {
      "displayName": "Matteo Barbieri",
      "photoUrl": "https://lh3.googleusercontent.com/a-/AOh14GgtsPZKZVWWfohpcJujBF0TCOZo3Pk_wYJgU-cK=s64",
      "userId": "03032937856915207277"
     },
     "user_tz": -60
    },
    "id": "3U0NXZgdEHRn",
    "outputId": "f44fac68-46bd-4b03-f59b-f3da7ae9be0e"
   },
   "outputs": [],
   "source": [
    "country_df = None\n",
    "\n",
    "for csv_file in csv_files:\n",
    "    \n",
    "    df = pd.read_csv(csv_file)\n",
    "    date = extract_date(csv_file)\n",
    "    df['Date'] = date\n",
    "    \n",
    "    if country_df is None:\n",
    "        country_df = df\n",
    "    else:\n",
    "        country_df = pd.concat((country_df, df), ignore_index=True)"
   ]
  },
  {
   "cell_type": "code",
   "execution_count": 9,
   "metadata": {},
   "outputs": [
    {
     "data": {
      "text/plain": [
       "array(['Abruzzo', 'Basilicata', 'Calabria', 'Campania', 'Emilia-Romagna',\n",
       "       'Friuli Venezia Giulia', 'Lazio', 'Liguria', 'Lombardia', 'Marche',\n",
       "       'Molise', 'P.A. Bolzano', 'P.A. Trento', 'Piemonte', 'Puglia',\n",
       "       'Sardegna', 'Sicilia', 'Toscana', 'Umbria', \"Valle d'Aosta\",\n",
       "       'Veneto'], dtype=object)"
      ]
     },
     "execution_count": 9,
     "metadata": {},
     "output_type": "execute_result"
    }
   ],
   "source": [
    "np.unique(country_df['denominazione_regione'])"
   ]
  },
  {
   "cell_type": "code",
   "execution_count": 10,
   "metadata": {},
   "outputs": [
    {
     "data": {
      "text/html": [
       "<div>\n",
       "<style scoped>\n",
       "    .dataframe tbody tr th:only-of-type {\n",
       "        vertical-align: middle;\n",
       "    }\n",
       "\n",
       "    .dataframe tbody tr th {\n",
       "        vertical-align: top;\n",
       "    }\n",
       "\n",
       "    .dataframe thead th {\n",
       "        text-align: right;\n",
       "    }\n",
       "</style>\n",
       "<table border=\"1\" class=\"dataframe\">\n",
       "  <thead>\n",
       "    <tr style=\"text-align: right;\">\n",
       "      <th></th>\n",
       "      <th>data</th>\n",
       "      <th>stato</th>\n",
       "      <th>codice_regione</th>\n",
       "      <th>denominazione_regione</th>\n",
       "      <th>lat</th>\n",
       "      <th>long</th>\n",
       "      <th>ricoverati_con_sintomi</th>\n",
       "      <th>terapia_intensiva</th>\n",
       "      <th>totale_ospedalizzati</th>\n",
       "      <th>isolamento_domiciliare</th>\n",
       "      <th>totale_positivi</th>\n",
       "      <th>variazione_totale_positivi</th>\n",
       "      <th>nuovi_positivi</th>\n",
       "      <th>dimessi_guariti</th>\n",
       "      <th>deceduti</th>\n",
       "      <th>totale_casi</th>\n",
       "      <th>tamponi</th>\n",
       "      <th>note_it</th>\n",
       "      <th>note_en</th>\n",
       "      <th>Date</th>\n",
       "    </tr>\n",
       "  </thead>\n",
       "  <tbody>\n",
       "    <tr>\n",
       "      <th>0</th>\n",
       "      <td>2020-03-22T17:00:00</td>\n",
       "      <td>ITA</td>\n",
       "      <td>13</td>\n",
       "      <td>Abruzzo</td>\n",
       "      <td>42.351222</td>\n",
       "      <td>13.398438</td>\n",
       "      <td>218</td>\n",
       "      <td>49</td>\n",
       "      <td>267</td>\n",
       "      <td>272</td>\n",
       "      <td>539</td>\n",
       "      <td>45</td>\n",
       "      <td>58</td>\n",
       "      <td>15</td>\n",
       "      <td>33</td>\n",
       "      <td>587</td>\n",
       "      <td>3375</td>\n",
       "      <td>NaN</td>\n",
       "      <td>NaN</td>\n",
       "      <td>2020-03-22</td>\n",
       "    </tr>\n",
       "    <tr>\n",
       "      <th>1</th>\n",
       "      <td>2020-03-22T17:00:00</td>\n",
       "      <td>ITA</td>\n",
       "      <td>17</td>\n",
       "      <td>Basilicata</td>\n",
       "      <td>40.639471</td>\n",
       "      <td>15.805148</td>\n",
       "      <td>13</td>\n",
       "      <td>10</td>\n",
       "      <td>23</td>\n",
       "      <td>58</td>\n",
       "      <td>81</td>\n",
       "      <td>15</td>\n",
       "      <td>15</td>\n",
       "      <td>0</td>\n",
       "      <td>0</td>\n",
       "      <td>81</td>\n",
       "      <td>643</td>\n",
       "      <td>NaN</td>\n",
       "      <td>NaN</td>\n",
       "      <td>2020-03-22</td>\n",
       "    </tr>\n",
       "    <tr>\n",
       "      <th>2</th>\n",
       "      <td>2020-03-22T17:00:00</td>\n",
       "      <td>ITA</td>\n",
       "      <td>4</td>\n",
       "      <td>P.A. Bolzano</td>\n",
       "      <td>46.499335</td>\n",
       "      <td>11.356624</td>\n",
       "      <td>146</td>\n",
       "      <td>32</td>\n",
       "      <td>178</td>\n",
       "      <td>470</td>\n",
       "      <td>648</td>\n",
       "      <td>48</td>\n",
       "      <td>57</td>\n",
       "      <td>7</td>\n",
       "      <td>23</td>\n",
       "      <td>678</td>\n",
       "      <td>5718</td>\n",
       "      <td>NaN</td>\n",
       "      <td>NaN</td>\n",
       "      <td>2020-03-22</td>\n",
       "    </tr>\n",
       "    <tr>\n",
       "      <th>3</th>\n",
       "      <td>2020-03-22T17:00:00</td>\n",
       "      <td>ITA</td>\n",
       "      <td>18</td>\n",
       "      <td>Calabria</td>\n",
       "      <td>38.905976</td>\n",
       "      <td>16.594402</td>\n",
       "      <td>77</td>\n",
       "      <td>17</td>\n",
       "      <td>94</td>\n",
       "      <td>166</td>\n",
       "      <td>260</td>\n",
       "      <td>35</td>\n",
       "      <td>38</td>\n",
       "      <td>5</td>\n",
       "      <td>8</td>\n",
       "      <td>273</td>\n",
       "      <td>3666</td>\n",
       "      <td>NaN</td>\n",
       "      <td>NaN</td>\n",
       "      <td>2020-03-22</td>\n",
       "    </tr>\n",
       "    <tr>\n",
       "      <th>4</th>\n",
       "      <td>2020-03-22T17:00:00</td>\n",
       "      <td>ITA</td>\n",
       "      <td>15</td>\n",
       "      <td>Campania</td>\n",
       "      <td>40.839566</td>\n",
       "      <td>14.250850</td>\n",
       "      <td>243</td>\n",
       "      <td>99</td>\n",
       "      <td>342</td>\n",
       "      <td>524</td>\n",
       "      <td>866</td>\n",
       "      <td>73</td>\n",
       "      <td>92</td>\n",
       "      <td>41</td>\n",
       "      <td>29</td>\n",
       "      <td>936</td>\n",
       "      <td>4943</td>\n",
       "      <td>NaN</td>\n",
       "      <td>NaN</td>\n",
       "      <td>2020-03-22</td>\n",
       "    </tr>\n",
       "  </tbody>\n",
       "</table>\n",
       "</div>"
      ],
      "text/plain": [
       "                  data stato  codice_regione denominazione_regione        lat  \\\n",
       "0  2020-03-22T17:00:00   ITA              13               Abruzzo  42.351222   \n",
       "1  2020-03-22T17:00:00   ITA              17            Basilicata  40.639471   \n",
       "2  2020-03-22T17:00:00   ITA               4          P.A. Bolzano  46.499335   \n",
       "3  2020-03-22T17:00:00   ITA              18              Calabria  38.905976   \n",
       "4  2020-03-22T17:00:00   ITA              15              Campania  40.839566   \n",
       "\n",
       "        long  ricoverati_con_sintomi  terapia_intensiva  totale_ospedalizzati  \\\n",
       "0  13.398438                     218                 49                   267   \n",
       "1  15.805148                      13                 10                    23   \n",
       "2  11.356624                     146                 32                   178   \n",
       "3  16.594402                      77                 17                    94   \n",
       "4  14.250850                     243                 99                   342   \n",
       "\n",
       "   isolamento_domiciliare  totale_positivi  variazione_totale_positivi  \\\n",
       "0                     272              539                          45   \n",
       "1                      58               81                          15   \n",
       "2                     470              648                          48   \n",
       "3                     166              260                          35   \n",
       "4                     524              866                          73   \n",
       "\n",
       "   nuovi_positivi  dimessi_guariti  deceduti  totale_casi  tamponi note_it  \\\n",
       "0              58               15        33          587     3375     NaN   \n",
       "1              15                0         0           81      643     NaN   \n",
       "2              57                7        23          678     5718     NaN   \n",
       "3              38                5         8          273     3666     NaN   \n",
       "4              92               41        29          936     4943     NaN   \n",
       "\n",
       "  note_en        Date  \n",
       "0     NaN  2020-03-22  \n",
       "1     NaN  2020-03-22  \n",
       "2     NaN  2020-03-22  \n",
       "3     NaN  2020-03-22  \n",
       "4     NaN  2020-03-22  "
      ]
     },
     "execution_count": 10,
     "metadata": {},
     "output_type": "execute_result"
    }
   ],
   "source": [
    "country_df.head()"
   ]
  },
  {
   "cell_type": "code",
   "execution_count": 11,
   "metadata": {},
   "outputs": [],
   "source": [
    "def get_region_data(country_df, region_name):\n",
    "    region_df = country_df[country_df['denominazione_regione'] == region_name].sort_values(by=\"Date\").copy()\n",
    "    \n",
    "    region_df['casi_su_tamponi'] = region_df['totale_casi']/region_df['tamponi']\n",
    "    \n",
    "    region_df['numero_nuovi_casi'] = region_df['totale_casi'].diff()\n",
    "    region_df['numero_nuovi_tamponi'] = region_df['tamponi'].diff()\n",
    "    \n",
    "    region_df['casi_su_tamponi_daily'] = region_df['numero_nuovi_casi']/region_df['numero_nuovi_tamponi']\n",
    "    \n",
    "    return region_df    "
   ]
  },
  {
   "cell_type": "code",
   "execution_count": 12,
   "metadata": {},
   "outputs": [],
   "source": [
    "regions_list = [\n",
    "    'Puglia',\n",
    "    'Calabria',\n",
    "    'Sicilia',\n",
    "    'Campania',\n",
    "    'Calabria',\n",
    "#     'Lombardia',\n",
    "]\n",
    "\n",
    "# provinces_list = [\n",
    "# #     'Lodi',\n",
    "#     'Napoli',\n",
    "# #     'Bari',\n",
    "# ]"
   ]
  },
  {
   "cell_type": "code",
   "execution_count": 13,
   "metadata": {},
   "outputs": [
    {
     "ename": "KeyError",
     "evalue": "\"None of [Index(['nuovi_attualmente_positivi'], dtype='object')] are in the [columns]\"",
     "output_type": "error",
     "traceback": [
      "\u001b[0;31m---------------------------------------------------------------------------\u001b[0m",
      "\u001b[0;31mKeyError\u001b[0m                                  Traceback (most recent call last)",
      "\u001b[0;32m<ipython-input-13-76b2be5317e6>\u001b[0m in \u001b[0;36m<module>\u001b[0;34m\u001b[0m\n\u001b[1;32m      8\u001b[0m \u001b[0;31m#     region_df = country_df[country_df['denominazione_regione'] == region_name]\u001b[0m\u001b[0;34m\u001b[0m\u001b[0;34m\u001b[0m\u001b[0;34m\u001b[0m\u001b[0m\n\u001b[1;32m      9\u001b[0m     \u001b[0mregion_df\u001b[0m \u001b[0;34m=\u001b[0m \u001b[0mget_region_data\u001b[0m\u001b[0;34m(\u001b[0m\u001b[0mcountry_df\u001b[0m\u001b[0;34m,\u001b[0m \u001b[0mregion_name\u001b[0m\u001b[0;34m)\u001b[0m\u001b[0;34m\u001b[0m\u001b[0;34m\u001b[0m\u001b[0m\n\u001b[0;32m---> 10\u001b[0;31m     \u001b[0mregion_df\u001b[0m\u001b[0;34m.\u001b[0m\u001b[0mplot\u001b[0m\u001b[0;34m(\u001b[0m\u001b[0mx\u001b[0m\u001b[0;34m=\u001b[0m\u001b[0;34m'Date'\u001b[0m\u001b[0;34m,\u001b[0m \u001b[0my\u001b[0m\u001b[0;34m=\u001b[0m\u001b[0;34m[\u001b[0m\u001b[0;34m\"nuovi_attualmente_positivi\"\u001b[0m\u001b[0;34m]\u001b[0m\u001b[0;34m,\u001b[0m \u001b[0mfigsize\u001b[0m\u001b[0;34m=\u001b[0m\u001b[0;34m(\u001b[0m\u001b[0;36m18\u001b[0m\u001b[0;34m,\u001b[0m\u001b[0;36m9\u001b[0m\u001b[0;34m)\u001b[0m\u001b[0;34m,\u001b[0m \u001b[0max\u001b[0m\u001b[0;34m=\u001b[0m\u001b[0max\u001b[0m\u001b[0;34m,\u001b[0m \u001b[0mmarker\u001b[0m\u001b[0;34m=\u001b[0m\u001b[0;34m'o'\u001b[0m\u001b[0;34m)\u001b[0m\u001b[0;34m\u001b[0m\u001b[0;34m\u001b[0m\u001b[0m\n\u001b[0m\u001b[1;32m     11\u001b[0m \u001b[0;34m\u001b[0m\u001b[0m\n\u001b[1;32m     12\u001b[0m \u001b[0;34m\u001b[0m\u001b[0m\n",
      "\u001b[0;32m~/miniconda3/envs/jupyter/lib/python3.7/site-packages/pandas/plotting/_core.py\u001b[0m in \u001b[0;36m__call__\u001b[0;34m(self, *args, **kwargs)\u001b[0m\n\u001b[1;32m    831\u001b[0m \u001b[0;34m\u001b[0m\u001b[0m\n\u001b[1;32m    832\u001b[0m                 \u001b[0;31m# don't overwrite\u001b[0m\u001b[0;34m\u001b[0m\u001b[0;34m\u001b[0m\u001b[0;34m\u001b[0m\u001b[0m\n\u001b[0;32m--> 833\u001b[0;31m                 \u001b[0mdata\u001b[0m \u001b[0;34m=\u001b[0m \u001b[0mdata\u001b[0m\u001b[0;34m[\u001b[0m\u001b[0my\u001b[0m\u001b[0;34m]\u001b[0m\u001b[0;34m.\u001b[0m\u001b[0mcopy\u001b[0m\u001b[0;34m(\u001b[0m\u001b[0;34m)\u001b[0m\u001b[0;34m\u001b[0m\u001b[0;34m\u001b[0m\u001b[0m\n\u001b[0m\u001b[1;32m    834\u001b[0m \u001b[0;34m\u001b[0m\u001b[0m\n\u001b[1;32m    835\u001b[0m                 \u001b[0;32mif\u001b[0m \u001b[0misinstance\u001b[0m\u001b[0;34m(\u001b[0m\u001b[0mdata\u001b[0m\u001b[0;34m,\u001b[0m \u001b[0mABCSeries\u001b[0m\u001b[0;34m)\u001b[0m\u001b[0;34m:\u001b[0m\u001b[0;34m\u001b[0m\u001b[0;34m\u001b[0m\u001b[0m\n",
      "\u001b[0;32m~/miniconda3/envs/jupyter/lib/python3.7/site-packages/pandas/core/frame.py\u001b[0m in \u001b[0;36m__getitem__\u001b[0;34m(self, key)\u001b[0m\n\u001b[1;32m   2804\u001b[0m             \u001b[0;32mif\u001b[0m \u001b[0mis_iterator\u001b[0m\u001b[0;34m(\u001b[0m\u001b[0mkey\u001b[0m\u001b[0;34m)\u001b[0m\u001b[0;34m:\u001b[0m\u001b[0;34m\u001b[0m\u001b[0;34m\u001b[0m\u001b[0m\n\u001b[1;32m   2805\u001b[0m                 \u001b[0mkey\u001b[0m \u001b[0;34m=\u001b[0m \u001b[0mlist\u001b[0m\u001b[0;34m(\u001b[0m\u001b[0mkey\u001b[0m\u001b[0;34m)\u001b[0m\u001b[0;34m\u001b[0m\u001b[0;34m\u001b[0m\u001b[0m\n\u001b[0;32m-> 2806\u001b[0;31m             \u001b[0mindexer\u001b[0m \u001b[0;34m=\u001b[0m \u001b[0mself\u001b[0m\u001b[0;34m.\u001b[0m\u001b[0mloc\u001b[0m\u001b[0;34m.\u001b[0m\u001b[0m_get_listlike_indexer\u001b[0m\u001b[0;34m(\u001b[0m\u001b[0mkey\u001b[0m\u001b[0;34m,\u001b[0m \u001b[0maxis\u001b[0m\u001b[0;34m=\u001b[0m\u001b[0;36m1\u001b[0m\u001b[0;34m,\u001b[0m \u001b[0mraise_missing\u001b[0m\u001b[0;34m=\u001b[0m\u001b[0;32mTrue\u001b[0m\u001b[0;34m)\u001b[0m\u001b[0;34m[\u001b[0m\u001b[0;36m1\u001b[0m\u001b[0;34m]\u001b[0m\u001b[0;34m\u001b[0m\u001b[0;34m\u001b[0m\u001b[0m\n\u001b[0m\u001b[1;32m   2807\u001b[0m \u001b[0;34m\u001b[0m\u001b[0m\n\u001b[1;32m   2808\u001b[0m         \u001b[0;31m# take() does not accept boolean indexers\u001b[0m\u001b[0;34m\u001b[0m\u001b[0;34m\u001b[0m\u001b[0;34m\u001b[0m\u001b[0m\n",
      "\u001b[0;32m~/miniconda3/envs/jupyter/lib/python3.7/site-packages/pandas/core/indexing.py\u001b[0m in \u001b[0;36m_get_listlike_indexer\u001b[0;34m(self, key, axis, raise_missing)\u001b[0m\n\u001b[1;32m   1550\u001b[0m \u001b[0;34m\u001b[0m\u001b[0m\n\u001b[1;32m   1551\u001b[0m         self._validate_read_indexer(\n\u001b[0;32m-> 1552\u001b[0;31m             \u001b[0mkeyarr\u001b[0m\u001b[0;34m,\u001b[0m \u001b[0mindexer\u001b[0m\u001b[0;34m,\u001b[0m \u001b[0mo\u001b[0m\u001b[0;34m.\u001b[0m\u001b[0m_get_axis_number\u001b[0m\u001b[0;34m(\u001b[0m\u001b[0maxis\u001b[0m\u001b[0;34m)\u001b[0m\u001b[0;34m,\u001b[0m \u001b[0mraise_missing\u001b[0m\u001b[0;34m=\u001b[0m\u001b[0mraise_missing\u001b[0m\u001b[0;34m\u001b[0m\u001b[0;34m\u001b[0m\u001b[0m\n\u001b[0m\u001b[1;32m   1553\u001b[0m         )\n\u001b[1;32m   1554\u001b[0m         \u001b[0;32mreturn\u001b[0m \u001b[0mkeyarr\u001b[0m\u001b[0;34m,\u001b[0m \u001b[0mindexer\u001b[0m\u001b[0;34m\u001b[0m\u001b[0;34m\u001b[0m\u001b[0m\n",
      "\u001b[0;32m~/miniconda3/envs/jupyter/lib/python3.7/site-packages/pandas/core/indexing.py\u001b[0m in \u001b[0;36m_validate_read_indexer\u001b[0;34m(self, key, indexer, axis, raise_missing)\u001b[0m\n\u001b[1;32m   1637\u001b[0m             \u001b[0;32mif\u001b[0m \u001b[0mmissing\u001b[0m \u001b[0;34m==\u001b[0m \u001b[0mlen\u001b[0m\u001b[0;34m(\u001b[0m\u001b[0mindexer\u001b[0m\u001b[0;34m)\u001b[0m\u001b[0;34m:\u001b[0m\u001b[0;34m\u001b[0m\u001b[0;34m\u001b[0m\u001b[0m\n\u001b[1;32m   1638\u001b[0m                 \u001b[0maxis_name\u001b[0m \u001b[0;34m=\u001b[0m \u001b[0mself\u001b[0m\u001b[0;34m.\u001b[0m\u001b[0mobj\u001b[0m\u001b[0;34m.\u001b[0m\u001b[0m_get_axis_name\u001b[0m\u001b[0;34m(\u001b[0m\u001b[0maxis\u001b[0m\u001b[0;34m)\u001b[0m\u001b[0;34m\u001b[0m\u001b[0;34m\u001b[0m\u001b[0m\n\u001b[0;32m-> 1639\u001b[0;31m                 \u001b[0;32mraise\u001b[0m \u001b[0mKeyError\u001b[0m\u001b[0;34m(\u001b[0m\u001b[0;34mf\"None of [{key}] are in the [{axis_name}]\"\u001b[0m\u001b[0;34m)\u001b[0m\u001b[0;34m\u001b[0m\u001b[0;34m\u001b[0m\u001b[0m\n\u001b[0m\u001b[1;32m   1640\u001b[0m \u001b[0;34m\u001b[0m\u001b[0m\n\u001b[1;32m   1641\u001b[0m             \u001b[0;31m# We (temporarily) allow for some missing keys with .loc, except in\u001b[0m\u001b[0;34m\u001b[0m\u001b[0;34m\u001b[0m\u001b[0;34m\u001b[0m\u001b[0m\n",
      "\u001b[0;31mKeyError\u001b[0m: \"None of [Index(['nuovi_attualmente_positivi'], dtype='object')] are in the [columns]\""
     ]
    },
    {
     "data": {
      "image/png": "[encoded data removed]",
      "text/plain": [
       "<Figure size 432x288 with 1 Axes>"
      ]
     },
     "metadata": {
      "needs_background": "light"
     },
     "output_type": "display_data"
    }
   ],
   "source": [
    "ax = plt.gca()\n",
    "\n",
    "sns.set_style(\"whitegrid\", {'grid.linestyle': ':'})\n",
    "# ax.yaxis.set_major_locator(ticker.MultipleLocator(Y_GRID_TICK))\n",
    "ax.xaxis.set_major_locator(ticker.MultipleLocator(4))\n",
    "\n",
    "for region_name in regions_list:\n",
    "#     region_df = country_df[country_df['denominazione_regione'] == region_name]\n",
    "    region_df = get_region_data(country_df, region_name)\n",
    "    region_df.plot(x='Date', y=[\"nuovi_attualmente_positivi\"], figsize=(18,9), ax=ax, marker='o')\n",
    "    \n",
    "    \n",
    "# region_df = country_df[country_df['denominazione_regione'] == 'Lombardia']\n",
    "# region_df.plot(x='Date', y=[\"nuovi_attualmente_positivi\"], figsize=(18,9), ax=ax, marker='o', secondary_y=True)\n",
    "    \n",
    "# for province_name in provinces_list:\n",
    "#     province_df = country_df[country_df['denominazione_provincia'] == province_name]\n",
    "#     province_df.plot(x='Date', y=[\"totale_casi\"], figsize=(18,9), ax=ax, marker='o')\n",
    "\n",
    "ax.xaxis.set_major_formatter(mdates.DateFormatter('%d-%m-%Y'))\n",
    "ax.set_ylabel(\"# of confirmed cases\");\n",
    "\n",
    "ax.set_title(\"Daily numbers of confirmed cases, deaths and hospitalized people. Daily increase refers to numbers on the right y axis.\");\n",
    "\n",
    "# ax.legend(provinces_list)\n",
    "# ax.legend(regions_list+['Lombardia'])\n",
    "ax.legend(regions_list)\n",
    "\n",
    "# plt.savefig(\"regions_daily_data.png\");"
   ]
  },
  {
   "cell_type": "markdown",
   "metadata": {},
   "source": [
    "The 10 regions with the higher number of confirmed cases"
   ]
  },
  {
   "cell_type": "code",
   "execution_count": null,
   "metadata": {},
   "outputs": [],
   "source": [
    "country_df.tail()"
   ]
  },
  {
   "cell_type": "code",
   "execution_count": null,
   "metadata": {},
   "outputs": [],
   "source": [
    "latest_date = country_df['Date'].max()\n",
    "\n",
    "top10_hit_regions = country_df[country_df['Date'] == latest_date] \\\n",
    "    .sort_values(by='totale_casi', ascending=False) \\\n",
    "    .head(10)['denominazione_regione']"
   ]
  },
  {
   "cell_type": "code",
   "execution_count": null,
   "metadata": {},
   "outputs": [],
   "source": [
    "ax = plt.gca()\n",
    "\n",
    "sns.set_style(\"whitegrid\", {'grid.linestyle': ':'})\n",
    "# ax.yaxis.set_major_locator(ticker.MultipleLocator(Y_GRID_TICK))\n",
    "ax.xaxis.set_major_locator(ticker.MultipleLocator(4))\n",
    "\n",
    "for region_name in top10_hit_regions:\n",
    "#     region_df = country_df[country_df['denominazione_regione'] == region_name]\n",
    "    region_df = get_region_data(country_df, region_name)\n",
    "    region_df.plot(x='Date', y=[\"casi_su_tamponi\"], figsize=(18,9), ax=ax, marker='o')\n",
    "    \n",
    "ax.xaxis.set_major_formatter(mdates.DateFormatter('%d-%m-%Y'))\n",
    "ax.set_ylabel(\"Confirmed cases/tests performed ratio\");\n",
    "\n",
    "ax.set_title(\"Ratio of total confirmed cases over number of tests (10 hardest hit regions)\");\n",
    "\n",
    "ax.set_ylim([0, 0.5])\n",
    "\n",
    "ax.legend(top10_hit_regions);\n",
    "\n",
    "plt.savefig(\"cases_over_tests_ratio_italy.png\");"
   ]
  },
  {
   "cell_type": "code",
   "execution_count": null,
   "metadata": {},
   "outputs": [],
   "source": [
    "ax = plt.gca()\n",
    "\n",
    "sns.set_style(\"whitegrid\", {'grid.linestyle': ':'})\n",
    "# ax.yaxis.set_major_locator(ticker.MultipleLocator(Y_GRID_TICK))\n",
    "ax.xaxis.set_major_locator(ticker.MultipleLocator(4))\n",
    "\n",
    "for region_name in regions_list:\n",
    "#     region_df = country_df[country_df['denominazione_regione'] == region_name]\n",
    "    region_df = get_region_data(country_df, region_name)\n",
    "    region_df.plot(x='Date', y=[\"tamponi\"], figsize=(18,9), ax=ax, marker='o')\n",
    "    \n",
    "    \n",
    "# region_df = country_df[country_df['denominazione_regione'] == 'Lombardia']\n",
    "# region_df.plot(x='Date', y=[\"nuovi_attualmente_positivi\"], figsize=(18,9), ax=ax, marker='o', secondary_y=True)\n",
    "    \n",
    "ax.xaxis.set_major_formatter(mdates.DateFormatter('%d-%m-%Y'))\n",
    "ax.set_ylabel(\"Confirmed cases/tests performed ratio\");\n",
    "\n",
    "ax.set_title(\"Total number of tests\");\n",
    "\n",
    "ax.legend(regions_list);\n",
    "\n",
    "\n",
    "# plt.savefig(\"regions_daily_data.png\");"
   ]
  }
 ],
 "metadata": {
  "colab": {
   "collapsed_sections": [
    "C1zkadfGEHSE"
   ],
   "name": "projections_covid2019_italy.ipynb",
   "provenance": []
  },
  "kernelspec": {
   "display_name": "Python 3",
   "language": "python",
   "name": "python3"
  },
  "language_info": {
   "codemirror_mode": {
    "name": "ipython",
    "version": 3
   },
   "file_extension": ".py",
   "mimetype": "text/x-python",
   "name": "python",
   "nbconvert_exporter": "python",
   "pygments_lexer": "ipython3",
   "version": "3.7.6"
  }
 },
 "nbformat": 4,
 "nbformat_minor": 4
}
